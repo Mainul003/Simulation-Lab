{
 "cells": [
  {
   "cell_type": "markdown",
   "metadata": {},
   "source": [
    "# Python Random Number Generation tutorial\n",
    "\n",
    "\n",
    " We will learn how to generate random numbers and data in Python using a random module and other available modules."
   ]
  },
  {
   "cell_type": "markdown",
   "metadata": {},
   "source": [
    "## How to Use a random module in Python\n",
    "\n",
    "random() return the next random floating-point number in the range [0.0, 1.0)."
   ]
  },
  {
   "cell_type": "code",
   "execution_count": 1,
   "metadata": {},
   "outputs": [
    {
     "name": "stdout",
     "output_type": "stream",
     "text": [
      "Printing random number using random.random()\n",
      "0.5988918729895645\n"
     ]
    }
   ],
   "source": [
    "import random\n",
    "print(\"Printing random number using random.random()\")\n",
    "print(random.random())"
   ]
  },
  {
   "cell_type": "markdown",
   "metadata": {},
   "source": [
    "## Randomly select an item from a List\n",
    "Assume you have the following list of cities and you want to retrieve an item at random from this list. Let see how to do this."
   ]
  },
  {
   "cell_type": "code",
   "execution_count": 2,
   "metadata": {},
   "outputs": [
    {
     "name": "stdout",
     "output_type": "stream",
     "text": [
      "Select random element from list -  Khulna\n"
     ]
    }
   ],
   "source": [
    "import random\n",
    "city_list = ['Dhaka', 'Comilla', 'Khulna', 'Barisal', 'Chittagong']\n",
    "print(\"Select random element from list - \", random.choice(city_list))"
   ]
  },
  {
   "cell_type": "markdown",
   "metadata": {},
   "source": [
    "## random.randint(a, b)\n",
    "Return a random integer Number such that a <= Number <= b.\n",
    "A randint(a,b) works only for integers."
   ]
  },
  {
   "cell_type": "code",
   "execution_count": 3,
   "metadata": {},
   "outputs": [
    {
     "name": "stdout",
     "output_type": "stream",
     "text": [
      "Use random.randint() to Generate random integer\n",
      "2\n",
      "0\n"
     ]
    }
   ],
   "source": [
    "import random\n",
    "print(\"Use random.randint() to Generate random integer\")\n",
    "print(random.randint(0, 5))\n",
    "print(random.randint(0, 5))"
   ]
  },
  {
   "cell_type": "markdown",
   "metadata": {},
   "source": [
    "## random.randrange(start,  stop [,  step])\n",
    "Use this method to generate a random integer number within a given range. For Example, generate a random number between 10 to 50.\n",
    "\n",
    "The step is a difference between each number in the sequence. "
   ]
  },
  {
   "cell_type": "code",
   "execution_count": 4,
   "metadata": {},
   "outputs": [
    {
     "name": "stdout",
     "output_type": "stream",
     "text": [
      "Generate random integer number within a given range\n",
      "20\n",
      "45\n"
     ]
    }
   ],
   "source": [
    "import random\n",
    "print(\"Generate random integer number within a given range\")\n",
    "print(random.randrange(10, 50, 5))\n",
    "print(random.randrange(10, 50, 5))"
   ]
  },
  {
   "cell_type": "markdown",
   "metadata": {},
   "source": [
    "## random.choice(seq)\n",
    "Use the random.choice method to pick a random element from the sequence. Here sequence can be list or string. This method returns a single item from the sequence."
   ]
  },
  {
   "cell_type": "code",
   "execution_count": 5,
   "metadata": {},
   "outputs": [
    {
     "name": "stdout",
     "output_type": "stream",
     "text": [
      "random.choice to select a random element from a list -  55\n"
     ]
    }
   ],
   "source": [
    "list = [55, 66, 77, 88, 99]\n",
    "print(\"random.choice to select a random element from a list - \", random.choice(list))"
   ]
  },
  {
   "cell_type": "markdown",
   "metadata": {},
   "source": [
    "## random.sample(population, k)\n",
    "Use this method when we want to pick more multiple random elements from a population."
   ]
  },
  {
   "cell_type": "code",
   "execution_count": 6,
   "metadata": {},
   "outputs": [
    {
     "name": "stdout",
     "output_type": "stream",
     "text": [
      "sampling with choices method  [50, 40, 20, 70, 30]\n"
     ]
    }
   ],
   "source": [
    "import random\n",
    "\n",
    "#sampling with replacement\n",
    "list = [20, 30, 40, 50 ,60, 70, 80, 90]\n",
    "sampling = random.choices(list, k=5)\n",
    "print(\"sampling with choices method \", sampling)"
   ]
  },
  {
   "cell_type": "markdown",
   "metadata": {},
   "source": [
    "## random.seed(a=None, version=2)\n",
    "The seed method is used to initialize the pseudorandom number generator in Python.\n",
    "The random module uses the seed value as a base to generate a random number. If seed value is not present, it takes a system current time."
   ]
  },
  {
   "cell_type": "code",
   "execution_count": 7,
   "metadata": {},
   "outputs": [
    {
     "name": "stdout",
     "output_type": "stream",
     "text": [
      "Random number with seed  0.793340083761663\n",
      "Random number with seed  0.793340083761663\n"
     ]
    }
   ],
   "source": [
    "import random\n",
    "random.seed(6)\n",
    "print(\"Random number with seed \",random.random())\n",
    "\n",
    "random.seed(6) \n",
    "print(\"Random number with seed \",random.random())"
   ]
  },
  {
   "cell_type": "markdown",
   "metadata": {},
   "source": [
    "## random.shuffle(x[, random])\n",
    "To shuffle or randomize list or other sequence types. The shuffle function shuffles a list in-place. The most common example is shuffle cards."
   ]
  },
  {
   "cell_type": "code",
   "execution_count": 8,
   "metadata": {},
   "outputs": [
    {
     "name": "stdout",
     "output_type": "stream",
     "text": [
      "Printing shuffled list  [8, 12, 5, 9, 2]\n"
     ]
    }
   ],
   "source": [
    "list = [2,5,8,9,12]\n",
    "random.shuffle(list)\n",
    "print (\"Printing shuffled list \", list)"
   ]
  },
  {
   "cell_type": "markdown",
   "metadata": {},
   "source": [
    "## random.uniform(start, end)\n",
    "Use random.uniform() to generate a floating point number within a given range."
   ]
  },
  {
   "cell_type": "code",
   "execution_count": 9,
   "metadata": {},
   "outputs": [
    {
     "name": "stdout",
     "output_type": "stream",
     "text": [
      "floating point within given range\n",
      "10.506775723276066\n"
     ]
    }
   ],
   "source": [
    "import random\n",
    "print(\"floating point within given range\")\n",
    "print(random.uniform(10.5, 25.5))"
   ]
  },
  {
   "cell_type": "markdown",
   "metadata": {},
   "source": [
    "## random.triangular(low, high, mode)\n",
    "The random.triangular() function returns a random floating point number N such that lower <= N <= upper and with the specified mode between those bounds.\n",
    "\n",
    "The default value of a lower bound is ZERO, and upper bounds are one. Moreover, the peak argument defaults to the midpoint between the bounds, giving a symmetric distribution."
   ]
  },
  {
   "cell_type": "code",
   "execution_count": 11,
   "metadata": {},
   "outputs": [
    {
     "name": "stdout",
     "output_type": "stream",
     "text": [
      "floating point triangular\n",
      "16.585861710724178\n"
     ]
    }
   ],
   "source": [
    "import random\n",
    "print(\"floating point triangular\")\n",
    "print(random.triangular(10.5, 25.5, 15.5))"
   ]
  },
  {
   "cell_type": "code",
   "execution_count": 12,
   "metadata": {},
   "outputs": [
    {
     "name": "stdout",
     "output_type": "stream",
     "text": [
      "2 X 2 random float array in [0.0, 1.0] \n",
      " [[0.50613053 0.5127886 ]\n",
      " [0.76403917 0.26068082]] \n",
      "\n",
      "3 X 2 random float array in range [25.5, 99.5] \n",
      " [[29.43259112 27.9371453 ]\n",
      " [52.4848133  31.29285065]\n",
      " [63.95976415 36.63005902]] \n",
      "\n"
     ]
    }
   ],
   "source": [
    "import numpy\n",
    "random_float_array = numpy.random.rand(2, 2)\n",
    "print(\"2 X 2 random float array in [0.0, 1.0] \\n\", random_float_array,\"\\n\")\n",
    "\n",
    "random_float_array = numpy.random.uniform(25.5, 99.5, size=(3, 2))\n",
    "print(\"3 X 2 random float array in range [25.5, 99.5] \\n\", random_float_array,\"\\n\")"
   ]
  },
  {
   "cell_type": "code",
   "execution_count": 13,
   "metadata": {},
   "outputs": [
    {
     "name": "stdout",
     "output_type": "stream",
     "text": [
      "1-dimensional random integer array \n",
      " [8 3 6 2 9] \n",
      "\n",
      "2-dimensional random integer array \n",
      " [[2 2]\n",
      " [3 3]\n",
      " [5 7]]\n"
     ]
    }
   ],
   "source": [
    "import numpy\n",
    "\n",
    "random_integer_array = numpy.random.randint(1, 10, 5)\n",
    "print(\"1-dimensional random integer array \\n\", random_integer_array,\"\\n\")\n",
    "\n",
    "random_integer_array = numpy.random.randint(1, 10, size=(3, 2))\n",
    "print(\"2-dimensional random integer array \\n\", random_integer_array)"
   ]
  },
  {
   "cell_type": "code",
   "execution_count": 17,
   "metadata": {},
   "outputs": [
    {
     "name": "stdout",
     "output_type": "stream",
     "text": [
      "single random choice from 1-D array [40]\n",
      "multiple random choice from 1-D array without replacement  [50 30 20]\n",
      "multiple random choice from 1-D array with replacement  [30 40 40]\n"
     ]
    }
   ],
   "source": [
    "import numpy\n",
    "\n",
    "array =[10, 20, 30, 40, 50, 20, 40]\n",
    "\n",
    "single_random_choice = numpy.random.choice(array, size=1)\n",
    "print(\"single random choice from 1-D array\", single_random_choice)\n",
    "\n",
    "multiple_random_choice = numpy.random.choice(array, size=3, replace=False)\n",
    "print(\"multiple random choice from 1-D array without replacement \", multiple_random_choice)\n",
    "\n",
    "multiple_random_choice = numpy.random.choice(array, size=3, replace=True)\n",
    "print(\"multiple random choice from 1-D array with replacement \", multiple_random_choice)"
   ]
  },
  {
   "cell_type": "code",
   "execution_count": 1,
   "metadata": {},
   "outputs": [
    {
     "name": "stdout",
     "output_type": "stream",
     "text": [
      "safe unique id is  7a2417ff-681e-4bf8-99c8-8ce836818326\n"
     ]
    }
   ],
   "source": [
    "import uuid\n",
    "\n",
    "# get a random UUID\n",
    "safeId = uuid.uuid4()\n",
    "print(\"safe unique id is \", safeId)"
   ]
  },
  {
   "cell_type": "code",
   "execution_count": 18,
   "metadata": {},
   "outputs": [
    {
     "name": "stdout",
     "output_type": "stream",
     "text": [
      "Random integer numbers generated using secrets module \n",
      "Secure random number is  0\n",
      "Secure random number within range is  36\n",
      "Secure random choice using secrets is  36\n",
      "Secure random sample using secrets is  [60, 30, 48]\n",
      "Secure random float number using secrets is  23.17435671035885\n"
     ]
    }
   ],
   "source": [
    "import secrets\n",
    "print(\"Random integer numbers generated using secrets module \")\n",
    "\n",
    "#Getting systemRandom class instance out of secrets module\n",
    "secretsGenerator = secrets.SystemRandom()\n",
    "\n",
    "#random integer number uisng secrets\n",
    "randomNumber = secretsGenerator.randint(0,50)\n",
    "print(\"Secure random number is \", randomNumber)\n",
    "\n",
    "#random integer number within given range using secrets\n",
    "randomNumber = secretsGenerator.randrange(4, 40, 4)\n",
    "print(\"Secure random number within range is \", randomNumber)\n",
    "\n",
    "#Secure Random choice using secrets\n",
    "number_list = [6, 12, 18, 24, 30, 36, 42, 48, 54, 60]\n",
    "secure_choice = secretsGenerator.choice(number_list)\n",
    "print (\"Secure random choice using secrets is \", secure_choice)\n",
    "\n",
    "#Secure Random sample uisng secrets\n",
    "secure_sample = secretsGenerator.sample(number_list, 3)\n",
    "print (\"Secure random sample using secrets is \", secure_sample)\n",
    "\n",
    "#Secure Random uniform using secrets\n",
    "secure_float = secretsGenerator.uniform(2.5, 25.5)\n",
    "print(\"Secure random float number using secrets is \", secure_float)"
   ]
  },
  {
   "cell_type": "markdown",
   "metadata": {},
   "source": [
    "## Dice Game Using a Random module"
   ]
  },
  {
   "cell_type": "code",
   "execution_count": 19,
   "metadata": {},
   "outputs": [
    {
     "name": "stdout",
     "output_type": "stream",
     "text": [
      "Dice game using a random module\n",
      "\n",
      "Tamim won the toss\n",
      "Liton is winner of dice game. Liton's Score is: 9 Tamim's score is: 4 \n",
      "\n",
      "Tamim won the toss\n",
      "Liton is winner of dice game. Liton's Score is: 12 Tamim's score is: 9 \n",
      "\n",
      "Liton won the toss\n",
      "Tamim is winner of dice game. Tamim's Score is: 6 Liton's score is: 4 \n",
      "\n"
     ]
    }
   ],
   "source": [
    "import random\n",
    "\n",
    "PlayerOne = \"Tamim\"\n",
    "PlayerTwo = \"Liton\"\n",
    "\n",
    "TamimScore = 0\n",
    "LitonScore = 0\n",
    "\n",
    "# each dice contains six numbers\n",
    "diceOne = [1, 2, 3, 4, 5, 6]\n",
    "diceTwo = [1, 2, 3, 4, 5, 6]\n",
    "\n",
    "def playDiceGame():\n",
    "    \"\"\"Both Eric and Kelly will roll both the dices using shuffle method\"\"\"\n",
    "\n",
    "    for i in range(5):\n",
    "        #shuffle both the dice 5 times\n",
    "        random.shuffle(diceOne)\n",
    "        random.shuffle(diceTwo)\n",
    "    firstNumber = random.choice(diceOne) # use choice method to pick one number randomly\n",
    "    SecondNumber = random.choice(diceTwo)\n",
    "    return firstNumber + SecondNumber\n",
    "\n",
    "print(\"Dice game using a random module\\n\")\n",
    "\n",
    "#Let's play Dice game three times\n",
    "for i in range(3):\n",
    "    # let's do toss to determine who has the right to play first\n",
    "    TamimTossNumber = random.randint(1, 100) # generate random number from 1 to 100. including 100\n",
    "    LitonTossNumber = random.randrange(1, 101, 1) # generate random number from 1 to 100. dosen't including 101\n",
    "\n",
    "    if( TamimTossNumber > LitonTossNumber):\n",
    "        print(\"Tamim won the toss\")\n",
    "        TamimScore = playDiceGame()\n",
    "        LitonScore = playDiceGame()\n",
    "    else:\n",
    "        print(\"Liton won the toss\")\n",
    "        LitonScore = playDiceGame()\n",
    "        TamimScore = playDiceGame()\n",
    "\n",
    "    if(TamimScore > LitonScore):\n",
    "        print(\"Tamim is winner of dice game. Tamim's Score is:\", TamimScore, \"Liton's score is:\", LitonScore, \"\\n\")\n",
    "    else:\n",
    "        print(\"Liton is winner of dice game. Liton's Score is:\", LitonScore, \"Tamim's score is:\", TamimScore, \"\\n\")"
   ]
  },
  {
   "cell_type": "markdown",
   "metadata": {},
   "source": [
    "## Generating Password"
   ]
  },
  {
   "cell_type": "code",
   "execution_count": 20,
   "metadata": {},
   "outputs": [
    {
     "name": "stdout",
     "output_type": "stream",
     "text": [
      "Secure Password is  zD1!wW(7i7\n"
     ]
    }
   ],
   "source": [
    "import secrets\n",
    "import string\n",
    "\n",
    "stringSource  = string.ascii_letters + string.digits + string.punctuation\n",
    "password = secrets.choice(string.ascii_lowercase)\n",
    "password += secrets.choice(string.ascii_uppercase)\n",
    "password += secrets.choice(string.digits)\n",
    "password += secrets.choice(string.punctuation)\n",
    "\n",
    "for i in range(6):\n",
    "    password += secrets.choice(stringSource)\n",
    "\n",
    "char_list = password.split()\n",
    "secrets.SystemRandom().shuffle(char_list)\n",
    "password = ''.join(char_list)\n",
    "print (\"Secure Password is \", password)"
   ]
  },
  {
   "cell_type": "markdown",
   "metadata": {},
   "source": [
    "## Guess the number"
   ]
  },
  {
   "cell_type": "code",
   "execution_count": 21,
   "metadata": {},
   "outputs": [
    {
     "name": "stdout",
     "output_type": "stream",
     "text": [
      "Guess a number: 2\n",
      "Go higher!\n",
      "Guess a number: 5\n",
      "Go lower!\n",
      "Guess a number: 4\n",
      "Go lower!\n",
      "Guess a number: 3\n",
      "Correct! You used 4 attempts!\n"
     ]
    }
   ],
   "source": [
    "import random\n",
    "number = random.randint(1, 10)\n",
    "attempts = 0  # count no of attempts to guess the number\n",
    "guess = 0\n",
    "while guess != number:\n",
    "    guess = int(input('Guess a number: '))\n",
    "    attempts += 1\n",
    "    if guess == number:\n",
    "        print('Correct! You used', attempts, 'attempts!')\n",
    "        break\n",
    "    elif guess < number:\n",
    "        print('Go higher!')\n",
    "    else:\n",
    "        print('Go lower!')"
   ]
  },
  {
   "cell_type": "code",
   "execution_count": null,
   "metadata": {},
   "outputs": [],
   "source": []
  }
 ],
 "metadata": {
  "kernelspec": {
   "display_name": "Python 3",
   "language": "python",
   "name": "python3"
  },
  "language_info": {
   "codemirror_mode": {
    "name": "ipython",
    "version": 3
   },
   "file_extension": ".py",
   "mimetype": "text/x-python",
   "name": "python",
   "nbconvert_exporter": "python",
   "pygments_lexer": "ipython3",
   "version": "3.7.3"
  }
 },
 "nbformat": 4,
 "nbformat_minor": 2
}
