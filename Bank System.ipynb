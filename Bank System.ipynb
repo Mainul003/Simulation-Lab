{
 "cells": [
  {
   "cell_type": "markdown",
   "metadata": {},
   "source": [
    "## Discrete Event Simulation\n",
    "## Bank System "
   ]
  },
  {
   "cell_type": "code",
   "execution_count": 1,
   "metadata": {},
   "outputs": [],
   "source": [
    "import random\n",
    "import simpy"
   ]
  },
  {
   "cell_type": "code",
   "execution_count": 2,
   "metadata": {},
   "outputs": [],
   "source": [
    "RANDOM_SEED = 42\n",
    "NEW_CUSTOMERS = 5  # Total number of customers\n",
    "INTERVAL_CUSTOMERS = 10.0  # Generate new customers roughly every x seconds\n",
    "MIN_PATIENCE = 1  # Min. customer patience\n",
    "MAX_PATIENCE = 3  # Max. customer patience"
   ]
  },
  {
   "cell_type": "code",
   "execution_count": 3,
   "metadata": {},
   "outputs": [],
   "source": [
    "def customer(env, name, counter, time_in_bank):\n",
    "    \"\"\"Customer arrives, is served and leaves.\"\"\"\n",
    "    arrive = env.now\n",
    "    print('%7.4f %s: Here I am' % (arrive, name))\n",
    "\n",
    "    with counter.request() as req:\n",
    "        patience = random.uniform(MIN_PATIENCE, MAX_PATIENCE)\n",
    "        # Wait for the counter or abort at the end of our tether\n",
    "        results = yield req | env.timeout(patience)\n",
    "\n",
    "        wait = env.now - arrive\n",
    "\n",
    "        if req in results:\n",
    "            # We got to the counter\n",
    "            print('%7.4f %s: Waited %6.3f' % (env.now, name, wait))\n",
    "\n",
    "            tib = random.expovariate(1.0 / time_in_bank)\n",
    "            yield env.timeout(tib)\n",
    "            print('%7.4f %s: Finished' % (env.now, name))\n",
    "\n",
    "        else:\n",
    "            # We reneged\n",
    "            print('%7.4f %s: RENEGED after %6.3f' % (env.now, name, wait))"
   ]
  },
  {
   "cell_type": "code",
   "execution_count": 4,
   "metadata": {},
   "outputs": [],
   "source": [
    "def source(env, number, interval, counter):\n",
    "    \"\"\"Source generates customers randomly\"\"\"\n",
    "    for i in range(number):\n",
    "        c = customer(env, 'Customer%02d' % i, counter, time_in_bank=12.0)\n",
    "        env.process(c)\n",
    "        t = random.expovariate(1.0 / interval)\n",
    "        yield env.timeout(t)"
   ]
  },
  {
   "cell_type": "code",
   "execution_count": 9,
   "metadata": {},
   "outputs": [
    {
     "name": "stdout",
     "output_type": "stream",
     "text": [
      "Bank System\n"
     ]
    }
   ],
   "source": [
    "# Setup and start the simulation\n",
    "print('Bank System')\n",
    "random.seed(RANDOM_SEED)\n",
    "env = simpy.Environment()"
   ]
  },
  {
   "cell_type": "code",
   "execution_count": 10,
   "metadata": {},
   "outputs": [
    {
     "name": "stdout",
     "output_type": "stream",
     "text": [
      " 0.0000 Customer00: Here I am\n",
      " 0.0000 Customer00: Waited  0.000\n",
      " 3.8595 Customer00: Finished\n",
      "10.2006 Customer01: Here I am\n",
      "10.2006 Customer01: Waited  0.000\n",
      "12.7265 Customer02: Here I am\n",
      "13.9003 Customer02: RENEGED after  1.174\n",
      "23.7507 Customer01: Finished\n",
      "34.9993 Customer03: Here I am\n",
      "34.9993 Customer03: Waited  0.000\n",
      "37.9599 Customer03: Finished\n",
      "40.4798 Customer04: Here I am\n",
      "40.4798 Customer04: Waited  0.000\n",
      "43.1401 Customer04: Finished\n"
     ]
    }
   ],
   "source": [
    "# Start processes and run\n",
    "counter = simpy.Resource(env, capacity=1)\n",
    "env.process(source(env, NEW_CUSTOMERS, INTERVAL_CUSTOMERS, counter))\n",
    "env.run()"
   ]
  },
  {
   "cell_type": "code",
   "execution_count": 42,
   "metadata": {},
   "outputs": [],
   "source": [
    "import random\n",
    "import simpy"
   ]
  },
  {
   "cell_type": "code",
   "execution_count": 3,
   "metadata": {},
   "outputs": [],
   "source": [
    "INTERVAL_CUSTOMERS = 7.0\n",
    "waiting_time = 0"
   ]
  },
  {
   "cell_type": "code",
   "execution_count": 82,
   "metadata": {},
   "outputs": [],
   "source": [
    "def Customer(env, name, counter, time_in_Takeout ):\n",
    "    \"\"\"Customer arrives, is served and leaves.\"\"\"\n",
    "    arrive = env.now\n",
    "    print('%s arrives at Takeout at %4.2f ' % (name,arrive))\n",
    "\n",
    "    with counter.request() as req:\n",
    "\n",
    "        wait = env.now - arrive\n",
    "        global waiting_time \n",
    "        waiting_time += wait\n",
    "        results = yield req\n",
    "\n",
    "            \n",
    "        print('%s enters Takeout at  %4.2f' % (name, env.now+wait))\n",
    "\n",
    "\n",
    "        tib = 5\n",
    "        yield env.timeout(tib)\n",
    "        ran = random.uniform(50,99)\n",
    "        print(\"Takeout fulfilled\",\"%5.2f\"%ran ,\"% of\", name,\"s appetite.\")\n",
    "        print('%s: leaves Takeout at %4.2f ' % ( name,env.now))\n"
   ]
  },
  {
   "cell_type": "code",
   "execution_count": 83,
   "metadata": {},
   "outputs": [],
   "source": [
    "def Source(env, number, interval, counter):\n",
    "    \"\"\"Source generates customers randomly\"\"\"\n",
    "    c1 = Customer(env, 'Customer 0', counter, 5)\n",
    "    c2 = Customer(env, 'Customer 1', counter, 5)\n",
    "    c3 = Customer(env, 'Customer 2', counter, 5)\n",
    "    c4 = Customer(env, 'Customer 3', counter, 5)\n",
    "    env.process(c1)\n",
    "    env.process(c2)\n",
    "    env.process(c3)\n",
    "    env.process(c4)\n",
    "    i = 4\n",
    "    while(i):\n",
    "        c = Customer(env, 'Customer%d' % i, counter, 5)\n",
    "        env.process(c)\n",
    "        t = random.expovariate(1.0 / interval)\n",
    "        i+=1\n",
    "        yield env.timeout(7)\n",
    "        "
   ]
  },
  {
   "cell_type": "code",
   "execution_count": 84,
   "metadata": {},
   "outputs": [],
   "source": [
    "env = simpy.Environment()"
   ]
  },
  {
   "cell_type": "code",
   "execution_count": 85,
   "metadata": {},
   "outputs": [
    {
     "name": "stdout",
     "output_type": "stream",
     "text": [
      "Customer 0 arrives at Takeout at 0.00 \n",
      "Customer 1 arrives at Takeout at 0.00 \n",
      "Customer 2 arrives at Takeout at 0.00 \n",
      "Customer 3 arrives at Takeout at 0.00 \n",
      "Customer4 arrives at Takeout at 0.00 \n",
      "Customer 0 enters Takeout at  0.00\n",
      "Customer 1 enters Takeout at  0.00\n",
      "Takeout fulfilled 61.28 % of Customer 0 s appetite.\n",
      "Customer 0: leaves Takeout at 5.00 \n",
      "Takeout fulfilled 60.79 % of Customer 1 s appetite.\n",
      "Customer 1: leaves Takeout at 5.00 \n",
      "Customer 2 enters Takeout at  5.00\n",
      "Customer 3 enters Takeout at  5.00\n",
      "Customer5 arrives at Takeout at 7.00 \n",
      "Takeout fulfilled 80.92 % of Customer 2 s appetite.\n",
      "Customer 2: leaves Takeout at 10.00 \n",
      "Takeout fulfilled 61.22 % of Customer 3 s appetite.\n",
      "Customer 3: leaves Takeout at 10.00 \n",
      "Customer4 enters Takeout at  10.00\n",
      "Customer5 enters Takeout at  10.00\n",
      "Customer6 arrives at Takeout at 14.00 \n",
      "Takeout fulfilled 92.12 % of Customer4 s appetite.\n",
      "Customer4: leaves Takeout at 15.00 \n",
      "Takeout fulfilled 53.47 % of Customer5 s appetite.\n",
      "Customer5: leaves Takeout at 15.00 \n",
      "Customer6 enters Takeout at  15.00\n",
      "Total waiting time : 0\n"
     ]
    }
   ],
   "source": [
    "counter = simpy.Resource(env, capacity=2)\n",
    "env.process(Source(env, NEW_CUSTOMERS, INTERVAL_CUSTOMERS, counter))\n",
    "env.run(until=20)\n",
    "print(\"Total waiting time :\",waiting_time)"
   ]
  },
  {
   "cell_type": "code",
   "execution_count": null,
   "metadata": {},
   "outputs": [],
   "source": []
  },
  {
   "cell_type": "code",
   "execution_count": 4,
   "metadata": {},
   "outputs": [],
   "source": [
    "INTERVAL_CUSTOMERS = 7.0"
   ]
  },
  {
   "cell_type": "code",
   "execution_count": null,
   "metadata": {},
   "outputs": [],
   "source": []
  },
  {
   "cell_type": "code",
   "execution_count": 103,
   "metadata": {},
   "outputs": [],
   "source": [
    "class Takeout(object):\n",
    "        \n",
    "    def __init__(self, env, name, counter, time_in_Takeout):\n",
    "        self.env = env\n",
    "        self.time_in_Takeout = time_in_Takeout\n",
    "        self.counter = counter\n",
    "        self.name = name\n",
    "        self.waiting_time = 0\n",
    "        self.action = env.process(self.run())\n",
    "                \n",
    "\n",
    "    def run(self):\n",
    "        \"\"\"Customer arrives, is served and leaves.\"\"\"\n",
    "        arrive = env.now\n",
    "        print('%s arrives at Takeout at %4.2f ' % (self.name,arrive))\n",
    "\n",
    "        with counter.request() as req:\n",
    "\n",
    "            wait = env.now - arrive\n",
    "            self.waiting_time += wait\n",
    "            print('%s enters Takeout at  %4.2f' % (self.name, env.now+wait))\n",
    "\n",
    "\n",
    "            tib = 5\n",
    "            yield self.env.timeout(tib)\n",
    "            ran = random.uniform(50,99)\n",
    "            print(\"Takeout fulfilled\",\"%5.2f\"%ran ,\"% of\", self.name,\"s appetite.\")\n",
    "            print('%s: leaves Takeout at %4.2f ' % ( self.name,env.now))\n",
    "\n"
   ]
  },
  {
   "cell_type": "code",
   "execution_count": 140,
   "metadata": {},
   "outputs": [],
   "source": [
    "env = simpy.Environment()"
   ]
  },
  {
   "cell_type": "code",
   "execution_count": 141,
   "metadata": {},
   "outputs": [],
   "source": [
    "def Source(env, number, interval, counter):\n",
    "    \"\"\"Source generates customers randomly\"\"\"\n",
    "    c = Takeout(env, 'Customer%d' % 0, counter, 5)\n",
    "    c1 = Takeout(env, 'Customer%d' % 1, counter, 5)\n",
    "    c2 = Takeout(env, 'Customer%d' % 2, counter, 5)\n",
    "    c3 = Takeout(env, 'Customer%d' % 3, counter, 5)\n",
    "    \n",
    "    wt = []\n",
    "    wt.append(c)\n",
    "    wt.append(c1)\n",
    "    wt.append(c2)\n",
    "    wt.append(c3)\n",
    "    \n",
    "    \n",
    "    i = 4\n",
    "    while(i):\n",
    "        c4 = Takeout(env, 'Customer%d' % i, counter, 5)\n",
    "        wt.append(c4)\n",
    "        t = random.expovariate(1.0 / interval)\n",
    "        i+=1\n",
    "        yield env.timeout(7)\n",
    "    check = 0\n",
    "    tt = len(wt)\n",
    "    print(tt)\n",
    "    for t in range(len(wt)):\n",
    "        check+=wt[t].wait\n",
    "    \n",
    "    print(\"Total Waiting Time: \",check)   "
   ]
  },
  {
   "cell_type": "code",
   "execution_count": 142,
   "metadata": {},
   "outputs": [
    {
     "name": "stdout",
     "output_type": "stream",
     "text": [
      "Customer0 arrives at Takeout at 0.00 \n",
      "Customer0 enters Takeout at  0.00\n",
      "Customer1 arrives at Takeout at 0.00 \n",
      "Customer1 enters Takeout at  0.00\n",
      "Customer2 arrives at Takeout at 0.00 \n",
      "Customer2 enters Takeout at  0.00\n",
      "Customer3 arrives at Takeout at 0.00 \n",
      "Customer3 enters Takeout at  0.00\n",
      "Customer4 arrives at Takeout at 0.00 \n",
      "Customer4 enters Takeout at  0.00\n",
      "Takeout fulfilled 79.16 % of Customer0 s appetite.\n",
      "Customer0: leaves Takeout at 5.00 \n",
      "Takeout fulfilled 83.09 % of Customer1 s appetite.\n",
      "Customer1: leaves Takeout at 5.00 \n",
      "Takeout fulfilled 61.52 % of Customer2 s appetite.\n",
      "Customer2: leaves Takeout at 5.00 \n",
      "Takeout fulfilled 55.87 % of Customer3 s appetite.\n",
      "Customer3: leaves Takeout at 5.00 \n",
      "Takeout fulfilled 93.62 % of Customer4 s appetite.\n",
      "Customer4: leaves Takeout at 5.00 \n",
      "Customer5 arrives at Takeout at 7.00 \n",
      "Customer5 enters Takeout at  7.00\n",
      "Takeout fulfilled 79.13 % of Customer5 s appetite.\n",
      "Customer5: leaves Takeout at 12.00 \n",
      "Customer6 arrives at Takeout at 14.00 \n",
      "Customer6 enters Takeout at  14.00\n",
      "Takeout fulfilled 70.54 % of Customer6 s appetite.\n",
      "Customer6: leaves Takeout at 19.00 \n"
     ]
    }
   ],
   "source": [
    "\n",
    "counter = simpy.Resource(env, capacity=2)\n",
    "env.process(Source(env, NEW_CUSTOMERS, INTERVAL_CUSTOMERS, counter))\n",
    "env.run(until=20)\n",
    "\n"
   ]
  },
  {
   "cell_type": "code",
   "execution_count": 120,
   "metadata": {},
   "outputs": [
    {
     "ename": "NameError",
     "evalue": "name 'wt' is not defined",
     "output_type": "error",
     "traceback": [
      "\u001b[1;31m---------------------------------------------------------------------------\u001b[0m",
      "\u001b[1;31mNameError\u001b[0m                                 Traceback (most recent call last)",
      "\u001b[1;32m<ipython-input-120-0d7f71eaf399>\u001b[0m in \u001b[0;36m<module>\u001b[1;34m\u001b[0m\n\u001b[0;32m      1\u001b[0m \u001b[0mcheck\u001b[0m \u001b[1;33m=\u001b[0m \u001b[1;36m0\u001b[0m\u001b[1;33m\u001b[0m\u001b[1;33m\u001b[0m\u001b[0m\n\u001b[1;32m----> 2\u001b[1;33m \u001b[1;32mfor\u001b[0m \u001b[0mi\u001b[0m \u001b[1;32min\u001b[0m \u001b[0mrange\u001b[0m\u001b[1;33m(\u001b[0m\u001b[0mlen\u001b[0m\u001b[1;33m(\u001b[0m\u001b[0mwt\u001b[0m\u001b[1;33m)\u001b[0m\u001b[1;33m)\u001b[0m\u001b[1;33m:\u001b[0m\u001b[1;33m\u001b[0m\u001b[1;33m\u001b[0m\u001b[0m\n\u001b[0m\u001b[0;32m      3\u001b[0m     \u001b[0mcheck\u001b[0m\u001b[1;33m+=\u001b[0m\u001b[0mwt\u001b[0m\u001b[1;33m[\u001b[0m\u001b[0mi\u001b[0m\u001b[1;33m]\u001b[0m\u001b[1;33m.\u001b[0m\u001b[0mwait\u001b[0m\u001b[1;33m\u001b[0m\u001b[1;33m\u001b[0m\u001b[0m\n\u001b[0;32m      4\u001b[0m \u001b[1;33m\u001b[0m\u001b[0m\n\u001b[0;32m      5\u001b[0m \u001b[0mprint\u001b[0m\u001b[1;33m(\u001b[0m\u001b[1;34m\"Total Waiting Time: \"\u001b[0m\u001b[1;33m,\u001b[0m\u001b[0mwait\u001b[0m\u001b[1;33m)\u001b[0m\u001b[1;33m\u001b[0m\u001b[1;33m\u001b[0m\u001b[0m\n",
      "\u001b[1;31mNameError\u001b[0m: name 'wt' is not defined"
     ]
    }
   ],
   "source": []
  },
  {
   "cell_type": "code",
   "execution_count": null,
   "metadata": {},
   "outputs": [],
   "source": []
  }
 ],
 "metadata": {
  "kernelspec": {
   "display_name": "Python 3",
   "language": "python",
   "name": "python3"
  },
  "language_info": {
   "codemirror_mode": {
    "name": "ipython",
    "version": 3
   },
   "file_extension": ".py",
   "mimetype": "text/x-python",
   "name": "python",
   "nbconvert_exporter": "python",
   "pygments_lexer": "ipython3",
   "version": "3.7.3"
  }
 },
 "nbformat": 4,
 "nbformat_minor": 2
}
