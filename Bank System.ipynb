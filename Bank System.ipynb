{
 "cells": [
  {
   "cell_type": "markdown",
   "metadata": {},
   "source": [
    "## Discrete Event Simulation\n",
    "## Bank System "
   ]
  },
  {
   "cell_type": "code",
   "execution_count": 1,
   "metadata": {},
   "outputs": [],
   "source": [
    "import random\n",
    "import simpy"
   ]
  },
  {
   "cell_type": "code",
   "execution_count": 2,
   "metadata": {},
   "outputs": [],
   "source": [
    "RANDOM_SEED = 42\n",
    "NEW_CUSTOMERS = 5  # Total number of customers\n",
    "INTERVAL_CUSTOMERS = 10.0  # Generate new customers roughly every x seconds\n",
    "MIN_PATIENCE = 1  # Min. customer patience\n",
    "MAX_PATIENCE = 3  # Max. customer patience"
   ]
  },
  {
   "cell_type": "code",
   "execution_count": 3,
   "metadata": {},
   "outputs": [],
   "source": [
    "def customer(env, name, counter, time_in_bank):\n",
    "    \"\"\"Customer arrives, is served and leaves.\"\"\"\n",
    "    arrive = env.now\n",
    "    print('%7.4f %s: Here I am' % (arrive, name))\n",
    "\n",
    "    with counter.request() as req:\n",
    "        patience = random.uniform(MIN_PATIENCE, MAX_PATIENCE)\n",
    "        # Wait for the counter or abort at the end of our tether\n",
    "        results = yield req | env.timeout(patience)\n",
    "\n",
    "        wait = env.now - arrive\n",
    "\n",
    "        if req in results:\n",
    "            # We got to the counter\n",
    "            print('%7.4f %s: Waited %6.3f' % (env.now, name, wait))\n",
    "\n",
    "            tib = random.expovariate(1.0 / time_in_bank)\n",
    "            yield env.timeout(tib)\n",
    "            print('%7.4f %s: Finished' % (env.now, name))\n",
    "\n",
    "        else:\n",
    "            # We reneged\n",
    "            print('%7.4f %s: RENEGED after %6.3f' % (env.now, name, wait))"
   ]
  },
  {
   "cell_type": "code",
   "execution_count": 4,
   "metadata": {},
   "outputs": [],
   "source": [
    "def source(env, number, interval, counter):\n",
    "    \"\"\"Source generates customers randomly\"\"\"\n",
    "    for i in range(number):\n",
    "        c = customer(env, 'Customer%02d' % i, counter, time_in_bank=12.0)\n",
    "        env.process(c)\n",
    "        t = random.expovariate(1.0 / interval)\n",
    "        yield env.timeout(t)"
   ]
  },
  {
   "cell_type": "code",
   "execution_count": 5,
   "metadata": {},
   "outputs": [
    {
     "name": "stdout",
     "output_type": "stream",
     "text": [
      "Bank System\n"
     ]
    }
   ],
   "source": [
    "# Setup and start the simulation\n",
    "print('Bank System')\n",
    "random.seed(RANDOM_SEED)\n",
    "env = simpy.Environment()"
   ]
  },
  {
   "cell_type": "code",
   "execution_count": 6,
   "metadata": {},
   "outputs": [
    {
     "name": "stdout",
     "output_type": "stream",
     "text": [
      " 0.0000 Customer00: Here I am\n",
      " 0.0000 Customer00: Waited  0.000\n",
      " 3.8595 Customer00: Finished\n",
      "10.2006 Customer01: Here I am\n",
      "10.2006 Customer01: Waited  0.000\n",
      "12.7265 Customer02: Here I am\n",
      "13.9003 Customer02: RENEGED after  1.174\n",
      "23.7507 Customer01: Finished\n",
      "34.9993 Customer03: Here I am\n",
      "34.9993 Customer03: Waited  0.000\n",
      "37.9599 Customer03: Finished\n",
      "40.4798 Customer04: Here I am\n",
      "40.4798 Customer04: Waited  0.000\n",
      "43.1401 Customer04: Finished\n"
     ]
    }
   ],
   "source": [
    "# Start processes and run\n",
    "counter = simpy.Resource(env, capacity=1)\n",
    "env.process(source(env, NEW_CUSTOMERS, INTERVAL_CUSTOMERS, counter))\n",
    "env.run()"
   ]
  },
  {
   "cell_type": "code",
   "execution_count": 21,
   "metadata": {},
   "outputs": [],
   "source": [
    "import random\n",
    "import simpy"
   ]
  },
  {
   "cell_type": "code",
   "execution_count": 32,
   "metadata": {},
   "outputs": [],
   "source": [
    "RANDOM_SEED = 42\n",
    "NEW_CUSTOMERS = 5  # Total number of customers\n",
    "INTERVAL_CUSTOMERS = 10.0  # Generate new customers roughly every x seconds\n",
    "MIN_PATIENCE = 1  # Min. customer patience\n",
    "MAX_PATIENCE = 3  # Max. customer patience\n",
    "INTERVAL_CUSTOMERS = 7.0\n",
    "waiting_time = []\n",
    "checklist = []"
   ]
  },
  {
   "cell_type": "code",
   "execution_count": 33,
   "metadata": {},
   "outputs": [],
   "source": [
    "def Customer(env, name, counter, time_in_Takeout ):\n",
    "    \"\"\"Customer arrives, is served and leaves.\"\"\"\n",
    "    arrive = env.now\n",
    "    print('%s arrives at Takeout at %4.2f ' % (name,arrive))\n",
    "\n",
    "    with counter.request() as req:\n",
    "        results = yield req\n",
    "        print('%s enters Takeout at  %4.2f' % (name, env.now))\n",
    "        \n",
    "        wait = env.now - arrive\n",
    "        wait = round(wait,2)\n",
    "        waiting_time.append(wait)\n",
    "        \n",
    "        tib = 5\n",
    "        yield env.timeout(tib)\n",
    "        ran = random.uniform(50,99)\n",
    "        if ran > 80:\n",
    "            checklist.append(ran)\n",
    "        print(\"Takeout fulfilled\",\"%5.2f\"%ran ,\"% of\", name,\"s appetite.\")\n",
    "        print('%s: leaves Takeout at %4.2f ' % ( name,env.now))\n"
   ]
  },
  {
   "cell_type": "code",
   "execution_count": 34,
   "metadata": {},
   "outputs": [],
   "source": [
    "def Source(env, number, interval, counter):\n",
    "    \"\"\"Source generates customers randomly\"\"\"\n",
    "    \"\"\"\n",
    "    c1 = Customer(env, 'Customer 0', counter, 5)\n",
    "    c2 = Customer(env, 'Customer 1', counter, 5)\n",
    "    c3 = Customer(env, 'Customer 2', counter, 5)\n",
    "    c4 = Customer(env, 'Customer 3', counter, 5)\n",
    "    env.process(c1)\n",
    "    env.process(c2)\n",
    "    env.process(c3)\n",
    "    env.process(c4)\n",
    "    \"\"\"\n",
    "    for i in  range(4):\n",
    "        c1 = Customer(env, 'Customer%d' % i, counter, 5)\n",
    "        env.process(c1)\n",
    "    i = 4\n",
    "    while(i):\n",
    "        c = Customer(env, 'Customer%d' % i, counter, 5)\n",
    "        env.process(c)\n",
    "        t = random.expovariate(1.0 / interval)\n",
    "        i+=1\n",
    "        yield env.timeout(7)\n",
    "        "
   ]
  },
  {
   "cell_type": "code",
   "execution_count": 35,
   "metadata": {},
   "outputs": [],
   "source": [
    "env = simpy.Environment()"
   ]
  },
  {
   "cell_type": "code",
   "execution_count": 36,
   "metadata": {},
   "outputs": [
    {
     "name": "stdout",
     "output_type": "stream",
     "text": [
      "Customer0 arrives at Takeout at 0.00 \n",
      "Customer1 arrives at Takeout at 0.00 \n",
      "Customer2 arrives at Takeout at 0.00 \n",
      "Customer3 arrives at Takeout at 0.00 \n",
      "Customer4 arrives at Takeout at 0.00 \n",
      "Customer0 enters Takeout at  0.00\n",
      "Customer1 enters Takeout at  0.00\n",
      "Takeout fulfilled 50.19 % of Customer0 s appetite.\n",
      "Customer0: leaves Takeout at 5.00 \n",
      "Takeout fulfilled 54.30 % of Customer1 s appetite.\n",
      "Customer1: leaves Takeout at 5.00 \n",
      "Customer2 enters Takeout at  5.00\n",
      "Customer3 enters Takeout at  5.00\n",
      "Customer5 arrives at Takeout at 7.00 \n",
      "Takeout fulfilled 79.99 % of Customer2 s appetite.\n",
      "Customer2: leaves Takeout at 10.00 \n",
      "Takeout fulfilled 54.38 % of Customer3 s appetite.\n",
      "Customer3: leaves Takeout at 10.00 \n",
      "Customer4 enters Takeout at  10.00\n",
      "Customer5 enters Takeout at  10.00\n",
      "Customer6 arrives at Takeout at 14.00 \n",
      "Takeout fulfilled 59.73 % of Customer4 s appetite.\n",
      "Customer4: leaves Takeout at 15.00 \n",
      "Takeout fulfilled 56.63 % of Customer5 s appetite.\n",
      "Customer5: leaves Takeout at 15.00 \n",
      "Customer6 enters Takeout at  15.00\n"
     ]
    }
   ],
   "source": [
    "counter = simpy.Resource(env, capacity=2)\n",
    "env.process(Source(env, NEW_CUSTOMERS, INTERVAL_CUSTOMERS, counter))\n",
    "env.run(until=20)\n"
   ]
  },
  {
   "cell_type": "code",
   "execution_count": 45,
   "metadata": {},
   "outputs": [
    {
     "name": "stdout",
     "output_type": "stream",
     "text": [
      "Customer 0 waits 0.00 Minutes\n",
      "Customer 1 waits 0.00 Minutes\n",
      "Customer 2 waits 5.00 Minutes\n",
      "Customer 3 waits 5.00 Minutes\n",
      "Customer 4 waits 10.00 Minutes\n",
      "Customer 5 waits 3.00 Minutes\n",
      "Customer 6 waits 1.00 Minutes\n",
      "Average Waiting Time: 3.43\n"
     ]
    }
   ],
   "source": [
    "total = 0\n",
    "for i in range(len(waiting_time)):\n",
    "    print('Customer %d waits %.2f Minutes' % (i, waiting_time[i]))\n",
    "    total = total + waiting_time[i]\n",
    "    \n",
    "print(\"Average Waiting Time: %.2f\" %(total/len(waiting_time)))"
   ]
  },
  {
   "cell_type": "code",
   "execution_count": 47,
   "metadata": {},
   "outputs": [
    {
     "name": "stdout",
     "output_type": "stream",
     "text": [
      "[]\n",
      "No of customers with more than 80% appetite:  0\n",
      "Percentage of customers who are more than 80% full:  0.0 %\n"
     ]
    }
   ],
   "source": [
    "print(checklist)\n",
    "checklist = len(checklist)\n",
    "print('No of customers with more than 80% appetite: ', checklist)\n",
    "\n",
    "percentage = (checklist/len(waiting_time)) * 100\n",
    "percentage = round(percentage,2)\n",
    "\n",
    "print('Percentage of customers who are more than 80% full: ', percentage,'%')"
   ]
  },
  {
   "cell_type": "code",
   "execution_count": 12,
   "metadata": {},
   "outputs": [],
   "source": [
    "INTERVAL_CUSTOMERS = 7.0"
   ]
  },
  {
   "cell_type": "code",
   "execution_count": 60,
   "metadata": {},
   "outputs": [],
   "source": [
    "class Takeout(object):\n",
    "        \n",
    "    def __init__(self, env, name, counter, time_in_Takeout):\n",
    "        self.env = env\n",
    "        self.time_in_Takeout = time_in_Takeout\n",
    "        self.counter = counter\n",
    "        self.name = name\n",
    "        self.waiting_time = 0\n",
    "        self.action = env.process(self.run())\n",
    "    def run(self):\n",
    "        \"\"\"Customer arives, is served and leaves.\"\"\"\n",
    "        arrive = env.now\n",
    "        print('%s arrives at Takeout at %4.2f ' % (self.name,arrive))\n",
    "        with counter.request() as req:\n",
    "            wait = env.now - arrive\n",
    "            self.waiting_time += wait\n",
    "            print('%s enters Takeout at  %4.2f' % (self.name, env.now+wait))\n",
    "            tib = 5\n",
    "            yield env.timeout(tib)\n",
    "            ran = random.uniform(50,99)\n",
    "            print(\"Takeout fulfilled\",\"%5.2f\"%ran ,\"% of\", self.name,\"s appetite.\")\n",
    "            print('%s: leaves Takeout at %4.2f ' % ( self.name,env.now))\n",
    "\n"
   ]
  },
  {
   "cell_type": "code",
   "execution_count": 83,
   "metadata": {},
   "outputs": [],
   "source": [
    "env = simpy.Environment()"
   ]
  },
  {
   "cell_type": "code",
   "execution_count": 84,
   "metadata": {},
   "outputs": [],
   "source": [
    "def Source(env, number, interval, counter):\n",
    "    \"\"\"Source generates customers randomly\"\"\"\n",
    "    c = Takeout(env, 'Customer%d' % 0, counter, 5)\n",
    "    c1 = Takeout(env, 'Customer%d' % 1, counter, 5)\n",
    "    c2 = Takeout(env, 'Customer%d' % 2, counter, 5)\n",
    "    c3 = Takeout(env, 'Customer%d' % 3, counter, 5)\n",
    "    \n",
    "    wt = []\n",
    "    wt.append(c)\n",
    "    wt.append(c1)\n",
    "    wt.append(c2)\n",
    "    wt.append(c3)\n",
    "    check = 0\n",
    "    tt = len(wt)\n",
    "    print(tt)\n",
    "    for t in range(len(wt)):\n",
    "        check+=wt[t].waiting_time\n",
    "    \n",
    "    print(\" Total Waiting Time : \",check)\n",
    "    i = 4\n",
    "    while(i):\n",
    "        c4 = Takeout(env, 'Customer%d' % i, counter, 5)\n",
    "        wt.append(c4)\n",
    "        t = random.expovariate(1.0 / interval)\n",
    "        i+=1\n",
    "        #yield env.timeout(7)\n",
    "    check = 0\n",
    "    tt = len(wt)\n",
    "    print(tt)\n",
    "    for t in range(len(wt)):\n",
    "        check+=wt[t].wait\n",
    "    \n",
    "    print(\" Total Waiting Time : \",check)  "
   ]
  },
  {
   "cell_type": "code",
   "execution_count": null,
   "metadata": {},
   "outputs": [
    {
     "name": "stdout",
     "output_type": "stream",
     "text": [
      "4\n",
      " Total Waiting Time :  0\n"
     ]
    }
   ],
   "source": [
    "\n",
    "counter = simpy.Resource(env, capacity=2)\n",
    "env.process(Source(env, NEW_CUSTOMERS, INTERVAL_CUSTOMERS, counter))\n",
    "env.run(until=20)\n",
    "\n"
   ]
  },
  {
   "cell_type": "code",
   "execution_count": null,
   "metadata": {},
   "outputs": [],
   "source": []
  },
  {
   "cell_type": "code",
   "execution_count": null,
   "metadata": {},
   "outputs": [],
   "source": []
  }
 ],
 "metadata": {
  "kernelspec": {
   "display_name": "Python 3",
   "language": "python",
   "name": "python3"
  },
  "language_info": {
   "codemirror_mode": {
    "name": "ipython",
    "version": 3
   },
   "file_extension": ".py",
   "mimetype": "text/x-python",
   "name": "python",
   "nbconvert_exporter": "python",
   "pygments_lexer": "ipython3",
   "version": "3.7.5"
  }
 },
 "nbformat": 4,
 "nbformat_minor": 2
}
