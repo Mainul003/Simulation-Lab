{
 "cells": [
  {
   "cell_type": "markdown",
   "metadata": {},
   "source": [
    "# Estimating the value of π\n",
    "\n",
    "![](https://i.etsystatic.com/9785200/r/il/a7d01c/651850600/il_570xN.651850600_1o5r.jpg)\n",
    "\n",
    "> ***Monte Carlo methods*** (or Monte Carlo experiments) are a broad class of computational algorithms that rely on repeated random sampling to obtain numerical results. Their essential idea is using randomness to solve problems that might be deterministic in principle.\n",
    "\n",
    "## Consider a square with side of length '2r'\n",
    "\n",
    "![](https://i.imgur.com/dmcuvku.png)\n",
    "\n",
    "## In the square, we draw a circle of radius 'r'\n",
    "\n",
    "![](https://i.imgur.com/wEEpcgY.png)\n",
    "\n",
    "### $\\text{Area of circle} = πr^2$\n",
    "### $\\text{Area of square} = (2r)^2 = 4r^2$\n",
    "\n",
    "## Let us assume that above figure is a dart board...\n",
    "\n",
    "### $\\text{Probability that a dart will fall inside the circle} = \\frac{\\text{Area of circle}}{\\text{Area of square}} = \\frac{πr^2}{4r^2} = \\frac{π}{4}$\n",
    "\n",
    "## Now, we do the experiment of randomly throwing a dart on the dart board. If the experiment is repeated 'infinite' number of times...\n",
    "\n",
    "### $\\text{Probability that a dart will fall inside the circle} = \\frac{\\text{Number of darts landed inside the circle}}{\\text{Total number of darts thrown}}$\n",
    "\n",
    "### $or$\n",
    "\n",
    "### $\\frac{π}{4} = \\frac{\\text{Number of darts landed inside the circle}}{\\text{Total number of darts thrown}}$\n",
    "\n",
    "### $or$\n",
    "\n",
    "### $π = 4*\\frac{\\text{Number of darts landed inside the circle}}{\\text{Total number of darts thrown}}$\n",
    "\n",
    "## Since there is no value of 'infinite', we can only repeat the experiment for a large number of times. Hence, exact value of π can't be calculated. We can only get an estimate! *More iterations = More accuracy*"
   ]
  },
  {
   "cell_type": "markdown",
   "metadata": {},
   "source": [
    "## Let's run a simulation now!\n",
    "\n",
    "![](https://i.imgur.com/NQ7TUhJ.png)"
   ]
  },
  {
   "cell_type": "code",
   "execution_count": 1,
   "metadata": {},
   "outputs": [],
   "source": [
    "# Package management\n",
    "import math\n",
    "import random\n",
    "import numpy as np\n",
    "import matplotlib.pyplot as plt"
   ]
  },
  {
   "cell_type": "code",
   "execution_count": null,
   "metadata": {},
   "outputs": [],
   "source": [
    "points_inside_cir = []\n",
    "len(points_inside_cir)"
   ]
  },
  {
   "cell_type": "code",
   "execution_count": 2,
   "metadata": {},
   "outputs": [],
   "source": [
    "def run_experiment(n):\n",
    "    # Initilize data-structure to store the points\n",
    "    points = []\n",
    "    points_inside_circle = []\n",
    "\n",
    "    \n",
    "    \n",
    "    # Generate n random points inside the square \n",
    "    for _ in range(n):\n",
    "        x = random.uniform(-1, 1)\n",
    "        y = random.uniform(-1, 1)\n",
    "        points.append((x,y))\n",
    "    \n",
    "        \n",
    "    # Finds the point that are inside the Circle\n",
    "    for (x,y) in (points):\n",
    "         if x**2+y**2 <= 1:\n",
    "            points_inside_circle.append((x,y))\n",
    "                \n",
    "    \n",
    "            \n",
    "    # Plot the result\n",
    "    \"\"\"\n",
    "    x = [i[0] for i in points]\n",
    "    y = [i[1] for i in points]\n",
    "    x_inside = [i[0] for i in points_inside_circle]\n",
    "    y_inside = [i[1] for i in points_inside_circle]\n",
    "    plt.figure(figsize = [8,8])\n",
    "    plt.scatter(x,y,s = 1)\n",
    "    plt.scatter(x_inside, y_inside,color = 'r', s = 1)\n",
    "    plt.xlabel('X-axis')\n",
    "    plt.ylabel('Y-axis')\n",
    "    plt.title('Monte Carlo simulation, number of observation n = {}  \\n'.format(n))\n",
    "    plt.show()\n",
    "    \"\"\"\n",
    "    \n",
    "    # Calculate the value of Pi\n",
    "    in_cir = len(points_inside_circle)\n",
    "    tot_num = len(points)\n",
    "    result = 4*(in_cir/tot_num)\n",
    "     \n",
    "    return result"
   ]
  },
  {
   "cell_type": "code",
   "execution_count": 3,
   "metadata": {},
   "outputs": [
    {
     "name": "stdout",
     "output_type": "stream",
     "text": [
      "3.1484\n"
     ]
    }
   ],
   "source": [
    "print(run_experiment(10000))"
   ]
  },
  {
   "cell_type": "code",
   "execution_count": 4,
   "metadata": {},
   "outputs": [],
   "source": [
    "# Run the simulation for multiple times \n",
    "iteration = []\n",
    "results = []\n",
    "actual_pi = []\n",
    "\n",
    "for i in range(5,10000,10):\n",
    "    iteration.append(i)\n",
    "    results.append(run_experiment(i))\n",
    "    actual_pi.append(np.pi)\n",
    "    \n",
    "    \n",
    "\n"
   ]
  },
  {
   "cell_type": "code",
   "execution_count": 5,
   "metadata": {},
   "outputs": [
    {
     "data": {
      "image/png": "[encoded data removed]",
      "text/plain": [
       "<Figure size 720x288 with 1 Axes>"
      ]
     },
     "metadata": {
      "needs_background": "light"
     },
     "output_type": "display_data"
    }
   ],
   "source": [
    "# Plot the overall result\n",
    "plt.figure(figsize = [10,4])    \n",
    "plt.scatter(iteration, results, color = 'r', s = 1, vmin=2, vmax=4, label = 'Simulated pi')\n",
    "plt.plot(iteration,actual_pi,c = 'b',label = 'Actual pi', linewidth=2.0)\n",
    "plt.ylim([2,4])\n",
    "plt.xlabel('Iteration')\n",
    "plt.ylabel('pi value')\n",
    "plt.legend(loc=\"best\")\n",
    "plt.title('Actual/Simulated pi value comparison')\n",
    "plt.show()"
   ]
  },
  {
   "cell_type": "markdown",
   "metadata": {},
   "source": [
    "## Exercise 1\n",
    "\n",
    "Perform error analysis and Show results in a graph"
   ]
  },
  {
   "cell_type": "code",
   "execution_count": 11,
   "metadata": {},
   "outputs": [
    {
     "data": {
      "image/png": "[encoded data removed]",
      "text/plain": [
       "<Figure size 432x288 with 1 Axes>"
      ]
     },
     "metadata": {
      "needs_background": "light"
     },
     "output_type": "display_data"
    }
   ],
   "source": [
    "error = []\n",
    "l = len(results)\n",
    "for i in range(l):\n",
    "    error.append(math.fabs(actual_pi[i]-results[i]))\n",
    "    \n",
    "plt.scatter(iteration, error, color = 'r', s = 1, vmin=0, vmax=4, label = 'Error')\n",
    "#plt.plot(iteration,actual_pi,c = 'b',label = 'Actual pi', linewidth=2.0)\n",
    "\n",
    "plt.xlabel('Iteration')\n",
    "plt.ylabel('pi value')\n",
    "plt.legend(loc=\"best\")\n",
    "plt.title('Error Shape')\n",
    "plt.show()  \n",
    "\n",
    "\n",
    "    \n"
   ]
  },
  {
   "cell_type": "code",
   "execution_count": 16,
   "metadata": {},
   "outputs": [
    {
     "name": "stdout",
     "output_type": "stream",
     "text": [
      "1000\n",
      "1000\n"
     ]
    }
   ],
   "source": [
    "sum = 0\n",
    "for i in range(len(results)):\n",
    "    sum+=1\n",
    "print(sum)\n",
    "print(len(results))"
   ]
  },
  {
   "cell_type": "markdown",
   "metadata": {},
   "source": [
    "## Exercise 2\n",
    "\n",
    "use a similar Monte Carlo procedure in dimension 3 to estimate $π$ (your analysis will be based on the volume of a sphere of radius 1, instead of the area of a circle of radius 1). Recall that the volume of a sphere of radius r is $\\frac{4}{3}\\pi r^3$"
   ]
  },
  {
   "cell_type": "code",
   "execution_count": 22,
   "metadata": {},
   "outputs": [],
   "source": [
    "\n",
    "%matplotlib inline\n",
    "from mpl_toolkits.mplot3d import Axes3D"
   ]
  },
  {
   "cell_type": "code",
   "execution_count": 46,
   "metadata": {},
   "outputs": [],
   "source": [
    "def exercise2(n):\n",
    "    # Initilize data-structure to store the points\n",
    "    points = []\n",
    "    points_inside_sphere = []\n",
    "    points_outside_sphere = []\n",
    "\n",
    "    \n",
    "    \n",
    "    # Generate n random points inside the square \n",
    "    for _ in range(n):\n",
    "        x = random.uniform(-1, 1)\n",
    "        y = random.uniform(-1, 1)\n",
    "        z = random.uniform(-1, 1)\n",
    "        points.append((x,y,z))\n",
    "    \n",
    "        \n",
    "    # Finds the point that are inside the Circle\n",
    "    for (x,y,z) in (points):\n",
    "         if x**2+y**2+z**2 <= 1:\n",
    "            points_inside_sphere.append((x,y,z))\n",
    "         else:\n",
    "            points_outside_sphere.append((x,y,z))\n",
    "                    \n",
    "    \n",
    "            \n",
    "    # Plot the result\n",
    "    \"\"\"\n",
    "    x = [i[0] for i in points_outside_sphere]\n",
    "    y = [i[1] for i in points_outside_sphere]\n",
    "    z = [i[2] for i in points_outside_sphere]\n",
    "    x_inside = [i[0] for i in points_inside_sphere]\n",
    "    y_inside = [i[1] for i in points_inside_sphere]\n",
    "    z_inside = [i[2] for i in points_inside_sphere]\n",
    "    fig = plt.figure(figsize = [8,8])\n",
    "    ax = fig.add_subplot(111, projection='3d')\n",
    "    \n",
    "    ax.scatter(x_inside, y_inside,z_inside,color = 'r', s = 1)\n",
    "    ax.scatter(x, y, z, s =1)\n",
    "    ax.set_xlabel('X-axis')\n",
    "    ax.set_ylabel('Y-axis')\n",
    "    ax.set_zlabel('Z-axis')\n",
    "    plt.title('Monte Carlo simulation, number of observation n = {}  \\n'.format(n))\n",
    "    plt.show()\n",
    "    \"\"\"\n",
    "    \n",
    "    # Calculate the value of Pi\n",
    "    in_sph = len(points_inside_sphere)\n",
    "    tot_num = len(points)\n",
    "    result = 6*(in_sph/tot_num)\n",
    "     \n",
    "    return result\n"
   ]
  },
  {
   "cell_type": "code",
   "execution_count": 47,
   "metadata": {},
   "outputs": [
    {
     "name": "stdout",
     "output_type": "stream",
     "text": [
      "3.1509599999999995\n"
     ]
    }
   ],
   "source": [
    "print(exercise2(100000))"
   ]
  },
  {
   "cell_type": "code",
   "execution_count": 48,
   "metadata": {},
   "outputs": [],
   "source": [
    "# Run the simulation for multiple times \n",
    "iteration = []\n",
    "results = []\n",
    "actual_pi = []\n",
    "error = []\n",
    "\n",
    "for i in range(5,10000,10):\n",
    "    iteration.append(i)\n",
    "    re = (exercise2(i))\n",
    "    results.append(re)\n",
    "    actual_pi.append(np.pi)\n",
    "    error.append(math.fabs(np.pi-re))\n",
    "    "
   ]
  },
  {
   "cell_type": "code",
   "execution_count": 49,
   "metadata": {},
   "outputs": [
    {
     "data": {
      "image/png": "[encoded data removed]",
      "text/plain": [
       "<Figure size 720x288 with 1 Axes>"
      ]
     },
     "metadata": {
      "needs_background": "light"
     },
     "output_type": "display_data"
    }
   ],
   "source": [
    "# Plot the overall result\n",
    "plt.figure(figsize = [10,4])    \n",
    "plt.scatter(iteration, results, color = 'r', s = 1, vmin=2, vmax=4, label = 'Simulated pi')\n",
    "plt.plot(iteration,actual_pi,c = 'b',label = 'Actual pi', linewidth=2.0)\n",
    "plt.ylim([2,4])\n",
    "plt.xlabel('Iteration')\n",
    "plt.ylabel('pi value')\n",
    "plt.legend(loc=\"best\")\n",
    "plt.title('Actual/Simulated pi value comparison')\n",
    "plt.show()"
   ]
  },
  {
   "cell_type": "code",
   "execution_count": 50,
   "metadata": {},
   "outputs": [
    {
     "data": {
      "image/png": "[encoded data removed]",
      "text/plain": [
       "<Figure size 432x288 with 1 Axes>"
      ]
     },
     "metadata": {
      "needs_background": "light"
     },
     "output_type": "display_data"
    }
   ],
   "source": [
    "    \n",
    "plt.scatter(iteration, error, color = 'r', s = 1, vmin=0, vmax=4, label = 'Error')\n",
    "#plt.plot(iteration,actual_pi,c = 'b',label = 'Actual pi', linewidth=2.0)\n",
    "\n",
    "plt.xlabel('Iteration')\n",
    "plt.ylabel('pi value')\n",
    "plt.legend(loc=\"best\")\n",
    "plt.title('Error Shape')\n",
    "plt.show() "
   ]
  },
  {
   "cell_type": "code",
   "execution_count": null,
   "metadata": {},
   "outputs": [],
   "source": []
  }
 ],
 "metadata": {
  "kernelspec": {
   "display_name": "Python 3",
   "language": "python",
   "name": "python3"
  },
  "language_info": {
   "codemirror_mode": {
    "name": "ipython",
    "version": 3
   },
   "file_extension": ".py",
   "mimetype": "text/x-python",
   "name": "python",
   "nbconvert_exporter": "python",
   "pygments_lexer": "ipython3",
   "version": "3.7.5"
  }
 },
 "nbformat": 4,
 "nbformat_minor": 2
}
