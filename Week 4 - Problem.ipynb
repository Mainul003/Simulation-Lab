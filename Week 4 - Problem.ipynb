{
 "cells": [
  {
   "cell_type": "markdown",
   "metadata": {},
   "source": [
    "A cellular automaton consists of a grid of cells; each cell has a state — either alive or dead. I will refer to this grid as the universe, \n",
    "\n",
    "Firstly, let us define the the eight grid squares around a cell as its neighbours. The rules of Life are then as follows:\n",
    "\n",
    "    1. A living cell will survive into the next generation by default, unless:\n",
    "\n",
    "        it has fewer than two live neighbours (underpopulation).\n",
    "        it has more than three live neighbours (overpopulation).\n",
    "\n",
    "    2. A dead cell will spring to life if it has exactly three live neighbours (reproduction).\n",
    "\n",
    "Clearly, no cells can come to life unless there are already some living cells in the universe. Thus, we have to provide the universe with a seed, i.e a set of initial living cells. The massive variety and complexity of the results, often starting from simple seeds, is what makes cellular automata so interesting."
   ]
  },
  {
   "cell_type": "code",
   "execution_count": 1,
   "metadata": {},
   "outputs": [],
   "source": [
    "# Import libaries \n",
    "import numpy as np\n",
    "import matplotlib.pyplot as plt\n",
    "import matplotlib.animation as animation"
   ]
  },
  {
   "cell_type": "markdown",
   "metadata": {},
   "source": [
    "This is a rough overview of our plan of attack:\n",
    "\n",
    "    1. Initialise an empty universe\n",
    "    2. Set the seed in the universe\n",
    "    3. Determine if a given cell survives to the next iteration, based on its neighbours\n",
    "    4. Iterate this survival function over all the cells in the universe\n",
    "    5. Iterate steps 3–4 for the desired number of generations\n",
    "    \n",
    "Let us start with a small universe consisting of a six-by-six grid. In our universe, each cell will either be a 1 (alive) or 0 (dead). For now, they are all dead, so we initialise with np.zeros"
   ]
  },
  {
   "cell_type": "code",
   "execution_count": 2,
   "metadata": {},
   "outputs": [
    {
     "name": "stdout",
     "output_type": "stream",
     "text": [
      "[[0. 0. 0. 0. 0. 0.]\n",
      " [0. 0. 0. 0. 0. 0.]\n",
      " [0. 0. 0. 0. 0. 0.]\n",
      " [0. 0. 0. 0. 0. 0.]\n",
      " [0. 0. 0. 0. 0. 0.]\n",
      " [0. 0. 0. 0. 0. 0.]]\n"
     ]
    },
    {
     "data": {
      "image/png": "[encoded data removed]",
      "text/plain": [
       "<Figure size 432x288 with 1 Axes>"
      ]
     },
     "metadata": {
      "needs_background": "light"
     },
     "output_type": "display_data"
    }
   ],
   "source": [
    "# Initialise the universe\n",
    "universe =  np.zeros((6,6))\n",
    "print(universe)\n",
    "\n",
    "plt.imshow(universe, cmap='binary')\n",
    "plt.show()"
   ]
  },
  {
   "cell_type": "code",
   "execution_count": 7,
   "metadata": {},
   "outputs": [
    {
     "name": "stdout",
     "output_type": "stream",
     "text": [
      "[[0. 0. 0. 0. 0. 0.]\n",
      " [0. 1. 1. 0. 0. 0.]\n",
      " [0. 1. 1. 0. 0. 0.]\n",
      " [0. 0. 0. 1. 1. 0.]\n",
      " [0. 0. 0. 1. 1. 0.]\n",
      " [0. 0. 0. 0. 0. 0.]]\n"
     ]
    },
    {
     "data": {
      "image/png": "[encoded data removed]",
      "text/plain": [
       "<Figure size 432x288 with 1 Axes>"
      ]
     },
     "metadata": {
      "needs_background": "light"
     },
     "output_type": "display_data"
    }
   ],
   "source": [
    "# Initialise the seed\n",
    "seed_array = np.array([[1,1,0,0],\n",
    "                      [1,1,0,0],\n",
    "                      [0,0,1,1],\n",
    "                      [0,0,1,1]])\n",
    "x_start, y_start = 1,1\n",
    "x_end, y_end = x_start + seed_array.shape[0], y_start + seed_array.shape[1]\n",
    "\n",
    "universe[x_start:x_end, y_start:y_end] = seed_array\n",
    "\n",
    "print(universe)\n",
    "plt.imshow(universe, cmap='binary')\n",
    "plt.show()"
   ]
  },
  {
   "cell_type": "code",
   "execution_count": 6,
   "metadata": {},
   "outputs": [],
   "source": [
    "def survival(x, y, universe):\n",
    "    \"\"\"\n",
    "    Compute one iteration of Life for one cell.\n",
    "    :param x: x coordinate of cell in the universe\n",
    "    :type x: int\n",
    "    :param y: y coordinate of cell in the universe\n",
    "    :type y: int\n",
    "    :param universe: the universe of cells\n",
    "    :type universe: np.ndarray\n",
    "    \"\"\"\n",
    "    # Count number of neighbours\n",
    "    num_neighbours = np.sum(universe[x - 1 : x + 2, y - 1 : y + 2]) - universe[x,y]\n",
    "    # The rules of Life\n",
    "    if universe[x,y] and not 2 <= num_neighbours <= 3 :\n",
    "        return 0\n",
    "    elif num_neighbours == 3:\n",
    "        return 1\n",
    "    else:\n",
    "        return universe[x,y]\n",
    "    "
   ]
  },
  {
   "cell_type": "code",
   "execution_count": 7,
   "metadata": {},
   "outputs": [],
   "source": [
    "def generation(universe):\n",
    "    \"\"\"\n",
    "    Compute one iteration of Life for the universe.\n",
    "    :param universe: initial universe of cells\n",
    "    :type universe: np.ndarray\n",
    "    :return: updated universe of cells\n",
    "    :rtype: np.ndarray\n",
    "    \"\"\"\n",
    "    new_universe = np.copy(universe)\n",
    "    # Apply the survival function to every cell in the universe\n",
    "    for i in range(universe.shape[0]):\n",
    "        for j in range(universe.shape[1]):\n",
    "            new_universe[i,j] = survival(i, j, universe)\n",
    "    \n",
    "    \n",
    "    return new_universe"
   ]
  },
  {
   "cell_type": "code",
   "execution_count": 20,
   "metadata": {},
   "outputs": [
    {
     "data": {
      "image/png": "[encoded data removed]",
      "text/plain": [
       "<Figure size 432x288 with 1 Axes>"
      ]
     },
     "metadata": {
      "needs_background": "light"
     },
     "output_type": "display_data"
    }
   ],
   "source": [
    "universe = generation(universe)\n",
    "plt.imshow(universe, cmap='binary')\n",
    "plt.show()"
   ]
  },
  {
   "cell_type": "code",
   "execution_count": 8,
   "metadata": {},
   "outputs": [
    {
     "name": "stderr",
     "output_type": "stream",
     "text": [
      "MovieWriter imagemagick unavailable. Trying to use pillow instead.\n"
     ]
    },
    {
     "data": {
      "image/png": "[encoded data removed]",
      "text/plain": [
       "<Figure size 600x400 with 1 Axes>"
      ]
     },
     "metadata": {
      "needs_background": "light"
     },
     "output_type": "display_data"
    }
   ],
   "source": [
    "# For Animation\n",
    "fig = plt.figure(dpi=100) # image quality in DPI\n",
    "plt.axis(\"off\")\n",
    "# number of universe iterations\n",
    "n_generations = 50\n",
    "ims = []\n",
    "for i in range(n_generations):\n",
    "    ims.append((plt.imshow(universe, cmap=\"Purples\"),))\n",
    "    universe = generation(universe)\n",
    "# interval (in milliseconds) between iterations\n",
    "im_ani = animation.ArtistAnimation(fig, ims, interval=300, repeat_delay=3000, blit=True)\n",
    "im_ani.save(\"hello.gif\", writer=\"imagemagick\")"
   ]
  },
  {
   "cell_type": "code",
   "execution_count": 9,
   "metadata": {},
   "outputs": [],
   "source": [
    "# Different Seeds\n",
    "seeds = {\n",
    "    \"diehard\": [\n",
    "        [0, 0, 0, 0, 0, 0, 1, 0],\n",
    "        [1, 1, 0, 0, 0, 0, 0, 0],\n",
    "        [0, 1, 0, 0, 0, 1, 1, 1],\n",
    "    ],\n",
    "    \"boat\": [[1, 1, 0], [1, 0, 1], [0, 1, 0]],\n",
    "    \"r_pentomino\": [[0, 1, 1], [1, 1, 0], [0, 1, 0]],\n",
    "    \"pentadecathlon\": [\n",
    "        [1, 1, 1, 1, 1, 1, 1, 1],\n",
    "        [1, 0, 1, 1, 1, 1, 0, 1],\n",
    "        [1, 1, 1, 1, 1, 1, 1, 1],\n",
    "    ],\n",
    "    \"beacon\": [[1, 1, 0, 0], [1, 1, 0, 0], [0, 0, 1, 1], [0, 0, 1, 1]],\n",
    "    \"acorn\": [[0, 1, 0, 0, 0, 0, 0], [0, 0, 0, 1, 0, 0, 0], [1, 1, 0, 0, 1, 1, 1]],\n",
    "    \"spaceship\": [[0, 0, 1, 1, 0], [1, 1, 0, 1, 1], [1, 1, 1, 1, 0], [0, 1, 1, 0, 0]],\n",
    "    \"block_switch_engine\": [\n",
    "        [0, 0, 0, 0, 0, 0, 1, 0],\n",
    "        [0, 0, 0, 0, 1, 0, 1, 1],\n",
    "        [0, 0, 0, 0, 1, 0, 1, 0],\n",
    "        [0, 0, 0, 0, 1, 0, 0, 0],\n",
    "        [0, 0, 1, 0, 0, 0, 0, 0],\n",
    "        [1, 0, 1, 0, 0, 0, 0, 0],\n",
    "    ],\n",
    "    \"infinite\": [\n",
    "        [1, 1, 1, 0, 1],\n",
    "        [1, 0, 0, 0, 0],\n",
    "        [0, 0, 0, 1, 1],\n",
    "        [0, 1, 1, 0, 1],\n",
    "        [1, 0, 1, 0, 1],\n",
    "    ],\n",
    "}"
   ]
  },
  {
   "cell_type": "code",
   "execution_count": 10,
   "metadata": {},
   "outputs": [
    {
     "name": "stdout",
     "output_type": "stream",
     "text": [
      "diehard\n",
      "[[0, 0, 0, 0, 0, 0, 1, 0], [1, 1, 0, 0, 0, 0, 0, 0], [0, 1, 0, 0, 0, 1, 1, 1]]\n",
      "boat\n",
      "[[1, 1, 0], [1, 0, 1], [0, 1, 0]]\n",
      "r_pentomino\n",
      "[[0, 1, 1], [1, 1, 0], [0, 1, 0]]\n",
      "pentadecathlon\n",
      "[[1, 1, 1, 1, 1, 1, 1, 1], [1, 0, 1, 1, 1, 1, 0, 1], [1, 1, 1, 1, 1, 1, 1, 1]]\n",
      "beacon\n",
      "[[1, 1, 0, 0], [1, 1, 0, 0], [0, 0, 1, 1], [0, 0, 1, 1]]\n",
      "acorn\n",
      "[[0, 1, 0, 0, 0, 0, 0], [0, 0, 0, 1, 0, 0, 0], [1, 1, 0, 0, 1, 1, 1]]\n",
      "spaceship\n",
      "[[0, 0, 1, 1, 0], [1, 1, 0, 1, 1], [1, 1, 1, 1, 0], [0, 1, 1, 0, 0]]\n",
      "block_switch_engine\n",
      "[[0, 0, 0, 0, 0, 0, 1, 0], [0, 0, 0, 0, 1, 0, 1, 1], [0, 0, 0, 0, 1, 0, 1, 0], [0, 0, 0, 0, 1, 0, 0, 0], [0, 0, 1, 0, 0, 0, 0, 0], [1, 0, 1, 0, 0, 0, 0, 0]]\n",
      "infinite\n",
      "[[1, 1, 1, 0, 1], [1, 0, 0, 0, 0], [0, 0, 0, 1, 1], [0, 1, 1, 0, 1], [1, 0, 1, 0, 1]]\n"
     ]
    }
   ],
   "source": [
    "for key, value in seeds.items(): \n",
    "         print(key)\n",
    "         print(value)"
   ]
  },
  {
   "cell_type": "markdown",
   "metadata": {},
   "source": [
    "Run the Simulation for different seeds and Save the GIF file. Name according to the seed name."
   ]
  },
  {
   "cell_type": "code",
   "execution_count": 11,
   "metadata": {},
   "outputs": [
    {
     "name": "stdout",
     "output_type": "stream",
     "text": [
      "[[0. 0. 0. ... 0. 0. 0.]\n",
      " [0. 0. 0. ... 0. 0. 0.]\n",
      " [0. 0. 0. ... 0. 0. 0.]\n",
      " ...\n",
      " [0. 0. 0. ... 0. 0. 0.]\n",
      " [0. 0. 0. ... 0. 0. 0.]\n",
      " [0. 0. 0. ... 0. 0. 0.]]\n"
     ]
    }
   ],
   "source": [
    "universe =  np.zeros((100,100))\n",
    "print(universe)\n",
    "x_start, y_start = 40,40\n"
   ]
  },
  {
   "cell_type": "code",
   "execution_count": null,
   "metadata": {},
   "outputs": [
    {
     "name": "stderr",
     "output_type": "stream",
     "text": [
      "MovieWriter imagemagick unavailable. Trying to use pillow instead.\n"
     ]
    }
   ],
   "source": [
    "for key, value in seeds.items(): \n",
    "    seed_array = np.array(value)\n",
    "    x_end, y_end = x_start + seed_array.shape[0], y_start + seed_array.shape[1]\n",
    "    universe[x_start:x_end, y_start:y_end] = seed_array\n",
    "\n",
    "    universe = generation(universe)\n",
    "    fig = plt.figure(dpi=100) # image quality in DPI\n",
    "    plt.axis(\"off\")\n",
    "    n_generations = 50\n",
    "    ims = []\n",
    "    for i in range(n_generations):\n",
    "        ims.append((plt.imshow(universe, cmap=\"Purples\"),))\n",
    "        universe = generation(universe)\n",
    "    im_ani = animation.ArtistAnimation(fig, ims, interval=300, repeat_delay=3000, blit=True)\n",
    "    \n",
    "    im_ani.save(key+\".gif\", writer=\"imagemagick\")\n",
    "        \n",
    "        \n",
    "    \n",
    "    "
   ]
  },
  {
   "cell_type": "code",
   "execution_count": 1,
   "metadata": {},
   "outputs": [],
   "source": [
    "# Different Seeds\n",
    "seeds = {\n",
    "    \"diehard\": [\n",
    "        [0, 0, 0, 0, 0, 0, 1, 0],\n",
    "        [1, 1, 0, 0, 0, 0, 0, 0],\n",
    "        [0, 1, 0, 0, 0, 1, 1, 1],\n",
    "    ],\n",
    "    \"boat\": [[1, 1, 0], [1, 0, 1], [0, 1, 0]],\n",
    "    \"r_pentomino\": [[0, 1, 1], [1, 1, 0], [0, 1, 0]],\n",
    "    \"pentadecathlon\": [\n",
    "        [1, 1, 1, 1, 1, 1, 1, 1],\n",
    "        [1, 0, 1, 1, 1, 1, 0, 1],\n",
    "        [1, 1, 1, 1, 1, 1, 1, 1],\n",
    "    ],\n",
    "    \"beacon\": [[1, 1, 0, 0], [1, 1, 0, 0], [0, 0, 1, 1], [0, 0, 1, 1]],\n",
    "    \"acorn\": [[0, 1, 0, 0, 0, 0, 0], [0, 0, 0, 1, 0, 0, 0], [1, 1, 0, 0, 1, 1, 1]],\n",
    "    \"spaceship\": [[0, 0, 1, 1, 0], [1, 1, 0, 1, 1], [1, 1, 1, 1, 0], [0, 1, 1, 0, 0]],\n",
    "    \"block_switch_engine\": [\n",
    "        [0, 0, 0, 0, 0, 0, 1, 0],\n",
    "        [0, 0, 0, 0, 1, 0, 1, 1],\n",
    "        [0, 0, 0, 0, 1, 0, 1, 0],\n",
    "        [0, 0, 0, 0, 1, 0, 0, 0],\n",
    "        [0, 0, 1, 0, 0, 0, 0, 0],\n",
    "        [1, 0, 1, 0, 0, 0, 0, 0],\n",
    "    ],\n",
    "    \"infinite\": [\n",
    "        [1, 1, 1, 0, 1],\n",
    "        [1, 0, 0, 0, 0],\n",
    "        [0, 0, 0, 1, 1],\n",
    "        [0, 1, 1, 0, 1],\n",
    "        [1, 0, 1, 0, 1],\n",
    "    ],\n",
    "    \"new1\" : [[0,1,0],[0,0,1], [1,1,1]],\n",
    "    \"glider_gun\": [[0,0,0,0,0,0,0,0,0,0,0,0,0,0,0,0,0,0,0,0,0,0,0,0,1,0,0,0,0,0,0,0,0,0,0,0],\n",
    " [0,0,0,0,0,0,0,0,0,0,0,0,0,0,0,0,0,0,0,0,0,0,1,0,1,0,0,0,0,0,0,0,0,0,0,0],\n",
    " [0,0,0,0,0,0,0,0,0,0,0,0,1,1,0,0,0,0,0,0,1,1,0,0,0,0,0,0,0,0,0,0,0,0,1,1],\n",
    " [0,0,0,0,0,0,0,0,0,0,0,1,0,0,0,1,0,0,0,0,1,1,0,0,0,0,0,0,0,0,0,0,0,0,1,1],\n",
    " [1,1,0,0,0,0,0,0,0,0,1,0,0,0,0,0,1,0,0,0,1,1,0,0,0,0,0,0,0,0,0,0,0,0,0,0],\n",
    " [1,1,0,0,0,0,0,0,0,0,1,0,0,0,1,0,1,1,0,0,0,0,1,0,1,0,0,0,0,0,0,0,0,0,0,0],\n",
    " [0,0,0,0,0,0,0,0,0,0,1,0,0,0,0,0,1,0,0,0,0,0,0,0,1,0,0,0,0,0,0,0,0,0,0,0],\n",
    " [0,0,0,0,0,0,0,0,0,0,0,1,0,0,0,1,0,0,0,0,0,0,0,0,0,0,0,0,0,0,0,0,0,0,0,0],\n",
    " [0,0,0,0,0,0,0,0,0,0,0,0,1,1,0,0,0,0,0,0,0,0,0,0,0,0,0,0,0,0,0,0,0,0,0,0]],\n",
    "}"
   ]
  },
  {
   "cell_type": "code",
   "execution_count": 2,
   "metadata": {},
   "outputs": [
    {
     "name": "stderr",
     "output_type": "stream",
     "text": [
      "MovieWriter imagemagick unavailable; trying to use <class 'matplotlib.animation.PillowWriter'> instead.\n",
      "MovieWriter imagemagick unavailable; trying to use <class 'matplotlib.animation.PillowWriter'> instead.\n",
      "MovieWriter imagemagick unavailable; trying to use <class 'matplotlib.animation.PillowWriter'> instead.\n",
      "MovieWriter imagemagick unavailable; trying to use <class 'matplotlib.animation.PillowWriter'> instead.\n",
      "MovieWriter imagemagick unavailable; trying to use <class 'matplotlib.animation.PillowWriter'> instead.\n",
      "MovieWriter imagemagick unavailable; trying to use <class 'matplotlib.animation.PillowWriter'> instead.\n",
      "MovieWriter imagemagick unavailable; trying to use <class 'matplotlib.animation.PillowWriter'> instead.\n",
      "MovieWriter imagemagick unavailable; trying to use <class 'matplotlib.animation.PillowWriter'> instead.\n",
      "MovieWriter imagemagick unavailable; trying to use <class 'matplotlib.animation.PillowWriter'> instead.\n",
      "MovieWriter imagemagick unavailable; trying to use <class 'matplotlib.animation.PillowWriter'> instead.\n",
      "MovieWriter imagemagick unavailable; trying to use <class 'matplotlib.animation.PillowWriter'> instead.\n"
     ]
    }
   ],
   "source": [
    "# Import libaries \n",
    "import numpy as np\n",
    "import matplotlib.pyplot as plt\n",
    "import matplotlib.animation as animation\n",
    "\n",
    "def survival(x, y, universe):\n",
    "    \"\"\"\n",
    "    Compute one iteration of Life for one cell.\n",
    "    :param x: x coordinate of cell in the universe\n",
    "    :type x: int\n",
    "    :param y: y coordinate of cell in the universe\n",
    "    :type y: int\n",
    "    :param universe: the universe of cells\n",
    "    :type universe: np.ndarray\n",
    "    \"\"\"\n",
    "    # Count number of neighbours\n",
    "    num_neighbours = np.sum(universe[x - 1 : x + 2, y - 1 : y + 2]) - universe[x,y]\n",
    "    # The rules of Life\n",
    "    if universe[x,y] and not 2 <= num_neighbours <= 3 :\n",
    "        return 0\n",
    "    elif num_neighbours == 3:\n",
    "        return 1\n",
    "    else:\n",
    "        return universe[x,y]\n",
    "\n",
    "def generation(universe):\n",
    "    \"\"\"\n",
    "    Compute one iteration of Life for the universe.\n",
    "    :param universe: initial universe of cells\n",
    "    :type universe: np.ndarray\n",
    "    :return: updated universe of cells\n",
    "    :rtype: np.ndarray\n",
    "    \"\"\"\n",
    "    new_universe = np.copy(universe)\n",
    "    # Apply the survival function to every cell in the universe\n",
    "    for i in range(universe.shape[0]):\n",
    "        for j in range(universe.shape[1]):\n",
    "            new_universe[i,j] = survival(i, j, universe)\n",
    "    \n",
    "    \n",
    "    return new_universe\n",
    "\n",
    "\n",
    "\n",
    "\n",
    "for key, value in seeds.items(): \n",
    "    seed_array = np.array(value)\n",
    "    \n",
    "    universe =  np.zeros((100,100))\n",
    "    x_start, y_start = 40,40\n",
    "    \n",
    "    x_end, y_end = x_start + seed_array.shape[0], y_start + seed_array.shape[1]\n",
    "    universe[x_start:x_end, y_start:y_end] = seed_array\n",
    "    \n",
    "    universe = generation(universe)\n",
    "    fig = plt.figure(dpi=100) # image quality in DPI\n",
    "    plt.axis(\"off\")\n",
    "    n_generations = 50\n",
    "    ims = []\n",
    "    for i in range(n_generations):\n",
    "        ims.append((plt.imshow(universe, cmap=\"Purples\"),))\n",
    "        universe = generation(universe)\n",
    "    im_ani = animation.ArtistAnimation(fig, ims, interval=300, repeat_delay=3000, blit=True)\n",
    "    \n",
    "    im_ani.save(key+\".gif\", writer=\"imagemagick\")\n",
    "        "
   ]
  },
  {
   "cell_type": "code",
   "execution_count": null,
   "metadata": {},
   "outputs": [],
   "source": []
  }
 ],
 "metadata": {
  "kernelspec": {
   "display_name": "Python 3",
   "language": "python",
   "name": "python3"
  },
  "language_info": {
   "codemirror_mode": {
    "name": "ipython",
    "version": 3
   },
   "file_extension": ".py",
   "mimetype": "text/x-python",
   "name": "python",
   "nbconvert_exporter": "python",
   "pygments_lexer": "ipython3",
   "version": "3.7.5"
  }
 },
 "nbformat": 4,
 "nbformat_minor": 2
}
