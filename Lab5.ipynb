{
 "cells": [
  {
   "cell_type": "code",
   "execution_count": 2,
   "metadata": {},
   "outputs": [],
   "source": [
    "def car(env):\n",
    "    while True:\n",
    "        print('Start parking at %d' % env.now)\n",
    "        parking_duration = 5\n",
    "        yield env.timeout(parking_duration)\n",
    "\n",
    "        print('Start driving at %d' % env.now)\n",
    "        trip_duration = 2\n",
    "        yield env.timeout(trip_duration)"
   ]
  },
  {
   "cell_type": "code",
   "execution_count": 57,
   "metadata": {},
   "outputs": [
    {
     "ename": "TypeError",
     "evalue": "'Car' object is not callable",
     "output_type": "error",
     "traceback": [
      "\u001b[1;31m---------------------------------------------------------------------------\u001b[0m",
      "\u001b[1;31mTypeError\u001b[0m                                 Traceback (most recent call last)",
      "\u001b[1;32m<ipython-input-57-7f86f41328fa>\u001b[0m in \u001b[0;36m<module>\u001b[1;34m\u001b[0m\n\u001b[0;32m      2\u001b[0m \u001b[1;32mimport\u001b[0m \u001b[0mmath\u001b[0m\u001b[1;33m\u001b[0m\u001b[1;33m\u001b[0m\u001b[0m\n\u001b[0;32m      3\u001b[0m \u001b[0menv\u001b[0m \u001b[1;33m=\u001b[0m \u001b[0msimpy\u001b[0m\u001b[1;33m.\u001b[0m\u001b[0mEnvironment\u001b[0m\u001b[1;33m(\u001b[0m\u001b[1;33m)\u001b[0m\u001b[1;33m\u001b[0m\u001b[1;33m\u001b[0m\u001b[0m\n\u001b[1;32m----> 4\u001b[1;33m \u001b[0menv\u001b[0m\u001b[1;33m.\u001b[0m\u001b[0mprocess\u001b[0m\u001b[1;33m(\u001b[0m\u001b[0mcar\u001b[0m\u001b[1;33m(\u001b[0m\u001b[0menv\u001b[0m\u001b[1;33m)\u001b[0m\u001b[1;33m)\u001b[0m\u001b[1;33m\u001b[0m\u001b[1;33m\u001b[0m\u001b[0m\n\u001b[0m\u001b[0;32m      5\u001b[0m \u001b[0menv\u001b[0m\u001b[1;33m.\u001b[0m\u001b[0mrun\u001b[0m\u001b[1;33m(\u001b[0m\u001b[0muntil\u001b[0m\u001b[1;33m=\u001b[0m\u001b[1;36m15\u001b[0m\u001b[1;33m)\u001b[0m\u001b[1;33m\u001b[0m\u001b[1;33m\u001b[0m\u001b[0m\n",
      "\u001b[1;31mTypeError\u001b[0m: 'Car' object is not callable"
     ]
    }
   ],
   "source": [
    "import simpy\n",
    "import math\n",
    "env = simpy.Environment()\n",
    "env.process(car(env))\n",
    "env.run(until=15)"
   ]
  },
  {
   "cell_type": "code",
   "execution_count": 18,
   "metadata": {},
   "outputs": [
    {
     "data": {
      "text/plain": [
       "5"
      ]
     },
     "execution_count": 18,
     "metadata": {},
     "output_type": "execute_result"
    }
   ],
   "source": [
    "import random\n",
    "random.randint(1,10)"
   ]
  },
  {
   "cell_type": "code",
   "execution_count": 62,
   "metadata": {},
   "outputs": [],
   "source": [
    "class Car(object):\n",
    "    def __init__(self, env, car_no):\n",
    "        self.env = env\n",
    "        self.car_no = car_no\n",
    "         # Start the run process everytime an instance is created.\n",
    "        self.action = env.process(self.run())\n",
    "        self.park = 0\n",
    "        self.drive = 0 \n",
    "\n",
    "    def run(self):\n",
    "         while True:\n",
    "               \n",
    "            print('Car no: ',self.car_no,'  Start parking and charging at %d'%self.env.now)\n",
    "            charge_duration = random.randint(1,10)\n",
    "             # We yield the process that process() returns\n",
    "             # to wait for it to finish\n",
    "             \n",
    "            yield self.env.process(self.charge(charge_duration))\n",
    "\n",
    "             # we can start driving again.\n",
    "            print('Car no: ',self.car_no,'Start driving at %d' % self.env.now)\n",
    "            trip_duration = random.randint(1,15)\n",
    "            yield self.env.timeout(trip_duration)\n",
    "            self.drive += trip_duration\n",
    "            self.park  += charge_duration\n",
    "            \n",
    "\n",
    "    def charge(self, duration):\n",
    "         yield self.env.timeout(duration)"
   ]
  },
  {
   "cell_type": "code",
   "execution_count": 66,
   "metadata": {},
   "outputs": [
    {
     "name": "stdout",
     "output_type": "stream",
     "text": [
      "Car no:  1   Start parking and charging at 0\n",
      "Car no:  1 Start driving at 7\n",
      "7\n",
      "Car no:  1   Start parking and charging at 16\n",
      "Car no:  1 Start driving at 18\n",
      "9\n",
      "Car no:  1   Start parking and charging at 30\n",
      "Car no:  1 Start driving at 36\n",
      "15\n",
      "Car no:  1   Start parking and charging at 48\n",
      "Drive time:  33 Total Parking Time:  15\n"
     ]
    }
   ],
   "source": [
    "env = simpy.Environment()\n",
    "car1 = Car(env,1)\n",
    "#car2 = Car(env,2)\n",
    "env.run(until=50)\n",
    "#print(\"Drive time: \",car1.drive,\"Total Parking Time: \",car1.park)"
   ]
  },
  {
   "cell_type": "code",
   "execution_count": 74,
   "metadata": {},
   "outputs": [
    {
     "name": "stdout",
     "output_type": "stream",
     "text": [
      "Car no:  1   Start parking and charging at 0\n",
      "Car no:  2   Start parking and charging at 0\n",
      "Car no:  3   Start parking and charging at 0\n",
      "Car no:  4   Start parking and charging at 0\n",
      "Car no:  5   Start parking and charging at 0\n",
      "Car no:  6   Start parking and charging at 0\n",
      "Car no:  7   Start parking and charging at 0\n",
      "Car no:  8   Start parking and charging at 0\n",
      "Car no:  9   Start parking and charging at 0\n",
      "Car no:  10   Start parking and charging at 0\n",
      "Car no:  1 Start driving at 1\n",
      "Car no:  4 Start driving at 3\n",
      "Car no:  8 Start driving at 3\n",
      "Car no:  2 Start driving at 4\n",
      "3\n",
      "Car no:  4   Start parking and charging at 5\n",
      "Car no:  3 Start driving at 5\n",
      "3\n",
      "Car no:  8   Start parking and charging at 6\n",
      "Car no:  6 Start driving at 6\n",
      "Car no:  7 Start driving at 6\n",
      "Car no:  10 Start driving at 6\n",
      "Car no:  5 Start driving at 9\n",
      "Car no:  9 Start driving at 9\n",
      "1\n",
      "Car no:  1   Start parking and charging at 10\n",
      "5\n",
      "Car no:  3   Start parking and charging at 11\n",
      "Car no:  1 Start driving at 11\n",
      "9\n",
      "Car no:  9   Start parking and charging at 12\n",
      "2\n",
      "Car no:  1   Start parking and charging at 12\n",
      "6\n",
      "Car no:  7   Start parking and charging at 14\n",
      "Car no:  4 Start driving at 15\n",
      "6\n",
      "Car no:  6   Start parking and charging at 16\n",
      "9\n",
      "Car no:  5   Start parking and charging at 16\n",
      "Car no:  8 Start driving at 16\n",
      "Car no:  7 Start driving at 16\n",
      "Car no:  5 Start driving at 17\n",
      "4\n",
      "Car no:  2   Start parking and charging at 18\n",
      "6\n",
      "Car no:  10   Start parking and charging at 19\n",
      "13\n",
      "Car no:  4   Start parking and charging at 19\n",
      "Car no:  9 Start driving at 20\n",
      "Car no:  3 Start driving at 21\n",
      "Car no:  1 Start driving at 21\n",
      "Car no:  6 Start driving at 21\n",
      "8\n",
      "Car no:  7   Start parking and charging at 22\n",
      "10\n",
      "Car no:  5   Start parking and charging at 22\n",
      "13\n",
      "Car no:  8   Start parking and charging at 24\n",
      "Car no:  2 Start driving at 24\n",
      "11\n",
      "Car no:  6   Start parking and charging at 26\n",
      "Car no:  7 Start driving at 27\n",
      "Car no:  6 Start driving at 27\n",
      "Car no:  5 Start driving at 28\n",
      "Car no:  10 Start driving at 29\n",
      "Car no:  4 Start driving at 29\n",
      "11\n",
      "Car no:  1   Start parking and charging at 31\n",
      "10\n",
      "Car no:  2   Start parking and charging at 31\n",
      "Car no:  8 Start driving at 31\n",
      "17\n",
      "Car no:  9   Start parking and charging at 33\n",
      "15\n",
      "Car no:  3   Start parking and charging at 33\n",
      "16\n",
      "Car no:  5   Start parking and charging at 33\n",
      "Car no:  1 Start driving at 33\n",
      "12\n",
      "Car no:  6   Start parking and charging at 34\n",
      "Car no:  9 Start driving at 35\n",
      "Car no:  3 Start driving at 35\n",
      "13\n",
      "Car no:  7   Start parking and charging at 36\n",
      "Car no:  5 Start driving at 40\n",
      "19\n",
      "Car no:  9   Start parking and charging at 41\n",
      "Car no:  2 Start driving at 41\n",
      "23\n",
      "Car no:  4   Start parking and charging at 42\n",
      "Car no:  6 Start driving at 43\n",
      "Car no:  9 Start driving at 43\n",
      "16\n",
      "Car no:  10   Start parking and charging at 44\n",
      "13\n",
      "Car no:  1   Start parking and charging at 44\n",
      "17\n",
      "Car no:  3   Start parking and charging at 44\n",
      "23\n",
      "Car no:  5   Start parking and charging at 44\n",
      "Car no:  4 Start driving at 44\n",
      "20\n",
      "Car no:  8   Start parking and charging at 45\n",
      "Car no:  10 Start driving at 45\n",
      "21\n",
      "Car no:  9   Start parking and charging at 46\n",
      "Car no:  7 Start driving at 46\n",
      "20\n",
      "Car no:  2   Start parking and charging at 47\n",
      "Car no:  3 Start driving at 49\n",
      "Car  1  Drive time:  31 Total Parking Time:  13\n",
      "Car  2  Drive time:  27 Total Parking Time:  20\n",
      "Car  3  Drive time:  27 Total Parking Time:  17\n",
      "Car  4  Drive time:  19 Total Parking Time:  23\n",
      "Car  5  Drive time:  21 Total Parking Time:  23\n",
      "Car  6  Drive time:  22 Total Parking Time:  12\n",
      "Car  7  Drive time:  23 Total Parking Time:  13\n",
      "Car  8  Drive time:  25 Total Parking Time:  20\n",
      "Car  9  Drive time:  25 Total Parking Time:  21\n",
      "Car  10  Drive time:  28 Total Parking Time:  16\n"
     ]
    }
   ],
   "source": [
    "caro = []\n",
    "env = simpy.Environment()\n",
    "\n",
    "for i in range(10):\n",
    "    caro.append(Car(env,i+1))\n",
    "\n",
    "env.run(until=50)\n",
    "for i in range(len(caro)) :\n",
    "    print(\"Car \",i+1,\" Drive time: \",caro[i].drive,\"Total Parking Time: \",caro[i].park)"
   ]
  },
  {
   "cell_type": "code",
   "execution_count": 13,
   "metadata": {},
   "outputs": [],
   "source": [
    "def driver(env, car):\n",
    "    yield env.timeout(3)\n",
    "    car.action.interrupt()"
   ]
  },
  {
   "cell_type": "code",
   "execution_count": 14,
   "metadata": {},
   "outputs": [],
   "source": [
    "class Car(object):\n",
    "    def __init__(self, env, car_no):\n",
    "        self.env = env\n",
    "        self.car_no = car_no\n",
    "         # Start the run process everytime an instance is created.\n",
    "        self.action = env.process(self.run())\n",
    "\n",
    "    def run(self):\n",
    "         while True:\n",
    "            print('Car no: %d Start parking and charging at %d'%self.car_no, % self.env.now)\n",
    "            charge_duration = 5\n",
    "             # We yield the process that process() returns\n",
    "             # to wait for it to finish\n",
    "            \n",
    "            try:\n",
    "                yield self.env.process(self.charge(charge_duration))\n",
    "            except simpy.Interrupt:\n",
    "                print('Was interrupted. Hope, the battery is full enough ...')\n",
    "\n",
    "             # we can start driving again.\n",
    "            print('Start driving at %d' % self.env.now)\n",
    "            trip_duration = 2\n",
    "            yield self.env.timeout(trip_duration)\n",
    "\n",
    "    def charge(self, duration):\n",
    "         yield self.env.timeout(duration)"
   ]
  },
  {
   "cell_type": "code",
   "execution_count": 15,
   "metadata": {},
   "outputs": [
    {
     "name": "stdout",
     "output_type": "stream",
     "text": [
      "Start parking and charging at 0\n",
      "Was interrupted. Hope, the battery is full enough ...\n",
      "Start driving at 3\n",
      "Start parking and charging at 5\n",
      "Start driving at 10\n",
      "Start parking and charging at 12\n"
     ]
    }
   ],
   "source": [
    "\n",
    "env = simpy.Environment()\n",
    "car = Car(env)\n",
    "env.process(driver(env,car))\n",
    "env.run(until=15)"
   ]
  },
  {
   "cell_type": "code",
   "execution_count": 30,
   "metadata": {},
   "outputs": [
    {
     "name": "stdout",
     "output_type": "stream",
     "text": [
      "0\n",
      "1\n",
      "2\n",
      "3\n",
      "4\n",
      "5\n",
      "6\n",
      "7\n",
      "8\n",
      "9\n"
     ]
    }
   ],
   "source": [
    "for i in range(10):\n",
    "    print(i)"
   ]
  },
  {
   "cell_type": "code",
   "execution_count": null,
   "metadata": {},
   "outputs": [],
   "source": []
  }
 ],
 "metadata": {
  "kernelspec": {
   "display_name": "Python 3",
   "language": "python",
   "name": "python3"
  },
  "language_info": {
   "codemirror_mode": {
    "name": "ipython",
    "version": 3
   },
   "file_extension": ".py",
   "mimetype": "text/x-python",
   "name": "python",
   "nbconvert_exporter": "python",
   "pygments_lexer": "ipython3",
   "version": "3.7.3"
  }
 },
 "nbformat": 4,
 "nbformat_minor": 2
}
