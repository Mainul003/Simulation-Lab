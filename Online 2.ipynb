{
 "cells": [
  {
   "cell_type": "markdown",
   "metadata": {},
   "source": [
    "## Question 1: Generate 5 random integers between 1000 and 9999 which is divisible by 10"
   ]
  },
  {
   "cell_type": "code",
   "execution_count": 4,
   "metadata": {},
   "outputs": [
    {
     "name": "stdout",
     "output_type": "stream",
     "text": [
      "9906\n"
     ]
    }
   ],
   "source": [
    "import random\n",
    "print(random.randint(1000, 9999))\n",
    "random.seed(10)"
   ]
  },
  {
   "cell_type": "code",
   "execution_count": 11,
   "metadata": {},
   "outputs": [
    {
     "name": "stdout",
     "output_type": "stream",
     "text": [
      "5 random integers between 1000 and 9999 which is divisible by 10 is  [4690, 1450, 5300, 9800, 2420]\n"
     ]
    }
   ],
   "source": [
    "k = []\n",
    "for i in range(5):\n",
    "    k.append(random.randrange(1000, 10000, 10))\n",
    "print(\"5 random integers between 1000 and 9999 which is divisible by 10 is \",k)\n"
   ]
  },
  {
   "cell_type": "code",
   "execution_count": null,
   "metadata": {},
   "outputs": [],
   "source": []
  },
  {
   "cell_type": "code",
   "execution_count": null,
   "metadata": {},
   "outputs": [],
   "source": []
  },
  {
   "cell_type": "code",
   "execution_count": null,
   "metadata": {},
   "outputs": [],
   "source": []
  },
  {
   "cell_type": "markdown",
   "metadata": {},
   "source": [
    "## Question 2: Random Lottery Pick\n",
    "Lottery game –  Generate a 1000 Lottery tickets and pick two lucky tickets from it as a winner.\n",
    "\n",
    "Note you must adhere to the following conditions:\n",
    "\n",
    "Lottery number must be 10 digits long.\n",
    "All 1000 ticket number must be unique."
   ]
  },
  {
   "cell_type": "code",
   "execution_count": 22,
   "metadata": {},
   "outputs": [
    {
     "name": "stdout",
     "output_type": "stream",
     "text": [
      "[8147425174, 3903678529]\n"
     ]
    }
   ],
   "source": [
    "import numpy\n",
    "\n",
    "#uuid.uuid4()\n",
    "lottery = []\n",
    "for i in range(1000):\n",
    "    lottery.append(random.randrange(1000000000, 9999999999,3))\n",
    "\n",
    "random.shuffle(lottery)\n",
    "Winner = random.choices(lottery, k=2)\n",
    "print(Winner)\n",
    "\n"
   ]
  },
  {
   "cell_type": "markdown",
   "metadata": {},
   "source": [
    "## Question 3: Pick a random charcter from a given String"
   ]
  },
  {
   "cell_type": "code",
   "execution_count": 24,
   "metadata": {},
   "outputs": [
    {
     "name": "stdout",
     "output_type": "stream",
     "text": [
      ";\n"
     ]
    }
   ],
   "source": [
    "import string\n",
    "\n",
    "stringSource  = string.ascii_letters + string.digits + string.punctuation\n",
    "ans = random.choice(stringSource)\n",
    "print(ans)"
   ]
  },
  {
   "cell_type": "markdown",
   "metadata": {},
   "source": [
    "## Question 4: Generate  random String of length 5\n",
    "Note: String must be the combination of the UPPER case and lower case letters only. No numbers and a special symbol.\n"
   ]
  },
  {
   "cell_type": "code",
   "execution_count": 30,
   "metadata": {},
   "outputs": [
    {
     "name": "stdout",
     "output_type": "stream",
     "text": [
      "String of length 5:  fWimy\n"
     ]
    }
   ],
   "source": [
    "\n",
    "stringSource  = string.ascii_lowercase + string.ascii_uppercase\n",
    "check = random.choices(stringSource,k=5)\n",
    "random.shuffle(check)\n",
    "final = ''.join(check)\n",
    "print(\"String of length 5: \",final)\n"
   ]
  },
  {
   "cell_type": "markdown",
   "metadata": {},
   "source": [
    "## Question 5: Generate a random Password which meets the following conditions\n",
    "Password length must be 10 characters long.\n",
    "It must contain at least 2 upper case letters, 2 digits, and 2 special symbols."
   ]
  },
  {
   "cell_type": "code",
   "execution_count": 38,
   "metadata": {},
   "outputs": [
    {
     "name": "stdout",
     "output_type": "stream",
     "text": [
      "Secure Password is  B92Hs&;#_M\n"
     ]
    }
   ],
   "source": [
    "import random\n",
    "import string\n",
    "\n",
    "stringSource  = string.ascii_letters + string.digits + string.punctuation\n",
    "password = random.choices(string.ascii_uppercase,k=2)\n",
    "password += random.choices(string.digits,k=2)\n",
    "password += random.choices(string.punctuation,k=2)\n",
    "\n",
    "for i in range(4):\n",
    "    password += random.choice(stringSource)\n",
    "\n",
    "random.shuffle(password)\n",
    "last = ''.join(password)\n",
    "print (\"Secure Password is \", last)"
   ]
  },
  {
   "cell_type": "markdown",
   "metadata": {},
   "source": [
    "## Question 6: Calculate mutiplication of two random float numbers\n",
    "Note:\n",
    "\n",
    "First random float number must be between 0.1 and 1\n",
    "Second random float number must be between 9.5 and 99."
   ]
  },
  {
   "cell_type": "code",
   "execution_count": 40,
   "metadata": {},
   "outputs": [
    {
     "name": "stdout",
     "output_type": "stream",
     "text": [
      "11.609287905656892\n"
     ]
    }
   ],
   "source": [
    "first_one = random.uniform(0.1, 1.0)\n",
    "second_one = random.uniform(9.5, 99)\n",
    "\n",
    "print(first_one*second_one)\n",
    "\n"
   ]
  },
  {
   "cell_type": "markdown",
   "metadata": {},
   "source": [
    "## Question 7: Generate random secure token of 64 bytes and random URL"
   ]
  },
  {
   "cell_type": "code",
   "execution_count": 81,
   "metadata": {},
   "outputs": [
    {
     "name": "stdout",
     "output_type": "stream",
     "text": [
      "secure token of 64 bytes:  12dcf8ca60d0961e0baa7535fbdc2fef1306b50926fbacb047a751fb89096520b13f217a95cd5fe74372d9d7bd8515f957bbbbf80f4a91da359c33cc5330df9c\n",
      "secure token of 64 bytes random URL :  ARGEviJh33w3E_GXzHqCftwREeIzhZN9wHtX7gdnnYXPFJ4hKRXAd6szrez0M7VmXcINIDKeqxrz558cRhNfBw\n"
     ]
    }
   ],
   "source": [
    "import secrets\n",
    "print(\"secure token of 64 bytes: \",secrets.token_hex(64))\n",
    "print(\"secure token of 64 bytes random URL : \",secrets.token_urlsafe(64))"
   ]
  },
  {
   "cell_type": "markdown",
   "metadata": {},
   "source": [
    "## Question 8: Roll dice in such a way that every time you get the same number\n",
    "Dice has 6 number(from 1 to 6). Roll dice in such a way that every time you must get same output number. do this 10 times.\n"
   ]
  },
  {
   "cell_type": "code",
   "execution_count": 68,
   "metadata": {},
   "outputs": [
    {
     "name": "stdout",
     "output_type": "stream",
     "text": [
      "[2, 2, 2, 2, 2, 2, 2, 2, 2, 2]\n"
     ]
    }
   ],
   "source": [
    "import numpy\n",
    "\n",
    "dice = [1, 2, 3, 4, 5, 6]\n",
    "l = []\n",
    "t = 10\n",
    "for i in range(10):\n",
    "    random.seed(4)\n",
    "    k = random.choice(dice)\n",
    "    l.append(k)\n",
    "    \n",
    "print(l)\n",
    "    "
   ]
  },
  {
   "cell_type": "markdown",
   "metadata": {},
   "source": [
    "## Question 9: Prepare a deck of card and randomly pick a card from the deck."
   ]
  },
  {
   "cell_type": "code",
   "execution_count": 92,
   "metadata": {},
   "outputs": [
    {
     "name": "stdout",
     "output_type": "stream",
     "text": [
      "['H2', 'H3', 'H4', 'H5', 'H6', 'H7', 'H8', 'H9', 'H10', 'HJ', 'HQ', 'HK', 'HA', 'D2', 'D3', 'D4', 'D5', 'D6', 'D7', 'D8', 'D9', 'D10', 'DJ', 'DQ', 'DK', 'DA', 'S2', 'S3', 'S4', 'S5', 'S6', 'S7', 'S8', 'S9', 'S10', 'SJ', 'SQ', 'SK', 'SA', 'C2', 'C3', 'C4', 'C5', 'C6', 'C7', 'C8', 'C9', 'C10', 'CJ', 'CQ', 'CK', 'CA']\n",
      " randomly pick :  HK\n"
     ]
    }
   ],
   "source": [
    "in_card= ['2' , '3','4','5','6','7','8','9','10' , 'J' , 'Q' , 'K' , 'A']\n",
    "a = 'H'\n",
    "b = 'D'\n",
    "c = 'S'\n",
    "d = 'C'\n",
    "card = []\n",
    "for i in in_card:\n",
    "    h= a+i\n",
    "    card.append(h)\n",
    "    \n",
    "for i in in_card:\n",
    "    h= b+i\n",
    "    card.append(h)\n",
    "for i in in_card:\n",
    "    h= c+i\n",
    "    card.append(h)\n",
    "for i in in_card:\n",
    "    h= d+i\n",
    "    card.append(h)\n",
    "    \n",
    "    \n",
    "print(card)\n",
    "random.shuffle(card)\n",
    "print(\" randomly pick : \",random.choice(card))\n"
   ]
  },
  {
   "cell_type": "code",
   "execution_count": null,
   "metadata": {},
   "outputs": [],
   "source": []
  }
 ],
 "metadata": {
  "kernelspec": {
   "display_name": "Python 3",
   "language": "python",
   "name": "python3"
  },
  "language_info": {
   "codemirror_mode": {
    "name": "ipython",
    "version": 3
   },
   "file_extension": ".py",
   "mimetype": "text/x-python",
   "name": "python",
   "nbconvert_exporter": "python",
   "pygments_lexer": "ipython3",
   "version": "3.7.3"
  }
 },
 "nbformat": 4,
 "nbformat_minor": 2
}
